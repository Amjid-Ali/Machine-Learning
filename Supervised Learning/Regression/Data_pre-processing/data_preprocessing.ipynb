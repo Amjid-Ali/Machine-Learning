{
 "cells": [
  {
   "cell_type": "markdown",
   "id": "5a41a981",
   "metadata": {},
   "source": [
    "# Data pre-processing "
   ]
  },
  {
   "cell_type": "markdown",
   "id": "76096289",
   "metadata": {},
   "source": [
    "## importing required libraries"
   ]
  },
  {
   "cell_type": "code",
   "execution_count": 40,
   "id": "6d62a828",
   "metadata": {},
   "outputs": [],
   "source": [
    "import numpy as np\n",
    "import matplotlib.pyplot as plt\n",
    "import pandas as pd"
   ]
  },
  {
   "cell_type": "code",
   "execution_count": 41,
   "id": "a85f4e54",
   "metadata": {},
   "outputs": [],
   "source": [
    "dataset = pd.read_csv('./Data.csv')\n",
    "X = dataset.iloc[:, :-1].values  # array\n",
    "y = dataset.iloc[:, -1].values\n",
    "# print(\"features:\",X)\n",
    "# print(\"label:\",y)"
   ]
  },
  {
   "cell_type": "markdown",
   "id": "dcd9c825",
   "metadata": {},
   "source": [
    "## missing data"
   ]
  },
  {
   "cell_type": "code",
   "execution_count": 42,
   "id": "f4b6e09d",
   "metadata": {},
   "outputs": [],
   "source": [
    "# it will fill the data with mean of that column\n",
    "from sklearn.impute import SimpleImputer\n",
    "imputer = SimpleImputer(missing_values=np.nan, strategy='mean')\n",
    "imputer.fit(X[:, 1:3])\n",
    "X[:, 1:3] = imputer.transform(X[:, 1:3])\n",
    "\n",
    "# or with missing data with pandas \n",
    "# XX=pd.DataFrame(X.copy())\n",
    "# XX.fillna(axis=0,method='ffill')   # methods= bfill, \n",
    "\n",
    "# with mean \n",
    "# XX=pd.DataFrame(X.copy())\n",
    "# mean=XX[\"missing_columnn_name\"].mean()\n",
    "# XX[\"missing_columm_name\"].fillna(mean)"
   ]
  },
  {
   "cell_type": "markdown",
   "id": "a08b53fd",
   "metadata": {},
   "source": [
    "# Encoding categorical data"
   ]
  },
  {
   "cell_type": "code",
   "execution_count": 43,
   "id": "4559476e",
   "metadata": {},
   "outputs": [],
   "source": [
    "# since every machine model does not understand labels or words to we need to convert into numbers\n",
    "from sklearn.compose import ColumnTransformer\n",
    "from sklearn.preprocessing import OneHotEncoder\n",
    "ct = ColumnTransformer(transformers=[('encoder', OneHotEncoder(), [0])], remainder='passthrough')\n",
    "X = np.array(ct.fit_transform(X))"
   ]
  },
  {
   "cell_type": "code",
   "execution_count": 45,
   "id": "97c312aa",
   "metadata": {},
   "outputs": [],
   "source": [
    "# label converting \n",
    "from sklearn.preprocessing import LabelEncoder\n",
    "le = LabelEncoder()\n",
    "y = le.fit_transform(y)"
   ]
  },
  {
   "cell_type": "markdown",
   "id": "21bb27a7",
   "metadata": {},
   "source": [
    "# Splitting the dataset into the Training set and Test set¶"
   ]
  },
  {
   "cell_type": "code",
   "execution_count": 47,
   "id": "be21beb7",
   "metadata": {},
   "outputs": [],
   "source": [
    "from sklearn.model_selection import train_test_split\n",
    "X_train, X_test, y_train, y_test = train_test_split(X, y, test_size = 0.2, random_state = 1)"
   ]
  },
  {
   "cell_type": "code",
   "execution_count": 54,
   "id": "513fe0c8",
   "metadata": {},
   "outputs": [],
   "source": [
    "# print(X_train) # train features\n",
    "# print(X_test) # label\n",
    "# print(y_train)  # train label\n",
    "# print(y_test)   # test label"
   ]
  },
  {
   "cell_type": "markdown",
   "id": "70d6e6e0",
   "metadata": {},
   "source": [
    "# features scaling \n",
    "Feature Scaling is a technique to standardize the independent features present in the data in a fixed range."
   ]
  },
  {
   "cell_type": "code",
   "execution_count": 55,
   "id": "208cc5a5",
   "metadata": {},
   "outputs": [],
   "source": [
    "from sklearn.preprocessing import StandardScaler\n",
    "sc = StandardScaler()\n",
    "X_train[:, 3:] = sc.fit_transform(X_train[:, 3:])\n",
    "X_test[:, 3:] = sc.transform(X_test[:, 3:])"
   ]
  },
  {
   "cell_type": "code",
   "execution_count": null,
   "id": "97e1adb2",
   "metadata": {},
   "outputs": [],
   "source": []
  }
 ],
 "metadata": {
  "kernelspec": {
   "display_name": "Python 3 (ipykernel)",
   "language": "python",
   "name": "python3"
  },
  "language_info": {
   "codemirror_mode": {
    "name": "ipython",
    "version": 3
   },
   "file_extension": ".py",
   "mimetype": "text/x-python",
   "name": "python",
   "nbconvert_exporter": "python",
   "pygments_lexer": "ipython3",
   "version": "3.8.12"
  }
 },
 "nbformat": 4,
 "nbformat_minor": 5
}
