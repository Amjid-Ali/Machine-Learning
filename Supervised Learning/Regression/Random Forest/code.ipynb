{
 "cells": [
  {
   "cell_type": "markdown",
   "metadata": {},
   "source": [
    "# Ensemble learning \n",
    "when two machine learning is put together to produce a large machine learning algothrim is called Ensemble learning"
   ]
  },
  {
   "cell_type": "markdown",
   "metadata": {},
   "source": [
    "# Random Forest steps\n",
    "step1= pick at random k data points from the traning set\n",
    "step2=build the decision tree associated to these k data points\n",
    "step3=choose the number Ntree of trees you want to build and repeat Stpe1 & 2\n",
    "step4=for new data point,make each of your tree Ntree trees predict the category to which the data point belongs,\n",
    "and assign the new data point to the category that win the majority vote"
   ]
  },
  {
   "cell_type": "markdown",
   "metadata": {},
   "source": [
    "![title](randomForest2.png)"
   ]
  },
  {
   "cell_type": "code",
   "execution_count": 3,
   "metadata": {},
   "outputs": [],
   "source": [
    "import cv2 \n",
    "import numpy as np\n",
    "import matplotlib.pyplot as plt\n",
    "import pandas as pd"
   ]
  },
  {
   "cell_type": "code",
   "execution_count": 4,
   "metadata": {},
   "outputs": [],
   "source": [
    "dataset=pd.read_csv(\"./Position_Salaries.csv\")\n",
    "features=dataset.iloc[:,1:2].values\n",
    "label=dataset.iloc[:,2].values"
   ]
  },
  {
   "cell_type": "code",
   "execution_count": 39,
   "metadata": {},
   "outputs": [
    {
     "data": {
      "text/plain": [
       "RandomForestRegressor(n_estimators=300, random_state=0)"
      ]
     },
     "execution_count": 39,
     "metadata": {},
     "output_type": "execute_result"
    }
   ],
   "source": [
    "from sklearn.ensemble import RandomForestRegressor\n",
    "model=RandomForestRegressor(n_estimators=300,random_state=0)\n",
    "model.fit(features,label)"
   ]
  },
  {
   "cell_type": "code",
   "execution_count": 40,
   "metadata": {},
   "outputs": [
    {
     "data": {
      "text/plain": [
       "array([160333.33333333])"
      ]
     },
     "execution_count": 40,
     "metadata": {},
     "output_type": "execute_result"
    }
   ],
   "source": [
    "pred=6.5 \n",
    "pred=np.array(pred)\n",
    "pred=pred.reshape(1,1)\n",
    "y_pred=model.predict(pred)\n",
    "# pred.shape\n",
    "y_pred"
   ]
  },
  {
   "cell_type": "code",
   "execution_count": 41,
   "metadata": {},
   "outputs": [
    {
     "data": {
      "image/png": "[encoded data removed]",
      "text/plain": [
       "<Figure size 432x288 with 1 Axes>"
      ]
     },
     "metadata": {
      "needs_background": "light"
     },
     "output_type": "display_data"
    }
   ],
   "source": [
    "X_grid=np.arange(min(features),max(features),0.01)\n",
    "X_grid=X_grid.reshape(len(X_grid),1)\n",
    "plt.scatter(features,label,color='red')\n",
    "plt.plot(X_grid,model.predict(X_grid),color=\"blue\")\n",
    "plt.title(\"random forest\")\n",
    "plt.xlabel(\"positon level\")\n",
    "plt.ylabel(\"salary\")\n",
    "plt.show()"
   ]
  },
  {
   "cell_type": "code",
   "execution_count": 37,
   "metadata": {},
   "outputs": [],
   "source": [
    "conf=model.score(features,label)"
   ]
  },
  {
   "cell_type": "code",
   "execution_count": 42,
   "metadata": {},
   "outputs": [],
   "source": [
    "# let check it over real time dataset"
   ]
  },
  {
   "cell_type": "code",
   "execution_count": 108,
   "metadata": {},
   "outputs": [],
   "source": [
    "dataset=pd.read_csv(\"./Housing.csv\")\n",
    "features=pd.get_dummies(dataset.drop(\"price\",axis=1))\n",
    "label=dataset.price"
   ]
  },
  {
   "cell_type": "code",
   "execution_count": 111,
   "metadata": {},
   "outputs": [],
   "source": [
    "# features=dataset.drop(\"Price\",axis=1)\n",
    "# learning how to drop multiple values\n"
   ]
  },
  {
   "cell_type": "code",
   "execution_count": 114,
   "metadata": {},
   "outputs": [],
   "source": [
    "# print(pd.DataFrame(features))\n",
    "# from sklearn.preprocessing import StandardScaler\n",
    "# sc=StandardScaler()\n",
    "# features=sc.fit_transform(features)\n",
    "# label=np.array(label)\n",
    "# label=label.reshape(len(label),1)\n",
    "# label=sc.fit_transform(label)\n",
    "from sklearn.model_selection import train_test_split\n",
    "X_train,X_test,y_train,y_test=train_test_split(features,label,test_size=0.3)"
   ]
  },
  {
   "cell_type": "code",
   "execution_count": 192,
   "metadata": {},
   "outputs": [
    {
     "data": {
      "text/plain": [
       "RandomForestClassifier()"
      ]
     },
     "execution_count": 192,
     "metadata": {},
     "output_type": "execute_result"
    }
   ],
   "source": [
    "from sklearn.ensemble import RandomForestClassifier\n",
    "model=RandomForestClassifier(n_estimators=100)\n",
    "model.fit(X_train,y_train)"
   ]
  },
  {
   "cell_type": "code",
   "execution_count": 199,
   "metadata": {},
   "outputs": [],
   "source": [
    "y_pred=model.predict(X_test)\n",
    "y_pred=pd.DataFrame(y_pred)\n",
    "socre=model.score(X_train,y_train)"
   ]
  },
  {
   "cell_type": "code",
   "execution_count": 203,
   "metadata": {},
   "outputs": [
    {
     "data": {
      "image/png": "[encoded data removed]",
      "text/plain": [
       "<Figure size 432x288 with 1 Axes>"
      ]
     },
     "metadata": {
      "needs_background": "light"
     },
     "output_type": "display_data"
    }
   ],
   "source": [
    "def learning_plot(model,X,y):\n",
    "    X_train,X_val,y_train,y_val=train_test_split(X,y,test_size=0.3)\n",
    "    train_errors,val_errors=[],[]\n",
    "    for m in range(1,len(X_train)):\n",
    "        model.fit(X_train[:m],y_train[:m])\n",
    "        y_train_predict=model.predict(X_train[:m])\n",
    "        y_val_prdict=model.predict(X_val)\n",
    "        train_errors.append(mean_squared_error(y_train[:m],y_train_predict))\n",
    "        val_errors.append(mean_squared_error(y_val, y_val_prdict))\n",
    "    plt.xlabel(\"training set\")\n",
    "    plt.ylabel(\"mse\")\n",
    "    plt.plot(np.sqrt(train_errors), \"r-+\", linewidth=2, label=\"train\")\n",
    "    plt.plot(np.sqrt(val_errors), \"b-\", linewidth=3, label=\"val\")\n",
    "learning_plot(model,X_train,y_train)"
   ]
  },
  {
   "cell_type": "code",
   "execution_count": 208,
   "metadata": {},
   "outputs": [
    {
     "data": {
      "text/plain": [
       "1788604589603.6584"
      ]
     },
     "execution_count": 208,
     "metadata": {},
     "output_type": "execute_result"
    }
   ],
   "source": [
    "\n",
    "from sklearn.metrics import mean_squared_error ,accuracy_score\n",
    "error=mean_squared_error(y_test,y_pred)\n",
    "error\n"
   ]
  },
  {
   "cell_type": "code",
   "execution_count": 209,
   "metadata": {},
   "outputs": [],
   "source": [
    "\n",
    "# X_train=np.array(X_train)\n",
    "# y_train=np.array(y_train)\n",
    "# X_train[:,0].reshape(-1,1)"
   ]
  },
  {
   "cell_type": "code",
   "execution_count": 211,
   "metadata": {},
   "outputs": [],
   "source": [
    "train_yhat=model.predict(X_train)\n",
    "train_acc = accuracy_score(y_train, train_yhat)"
   ]
  },
  {
   "cell_type": "code",
   "execution_count": 212,
   "metadata": {},
   "outputs": [
    {
     "data": {
      "text/plain": [
       "0.6929133858267716"
      ]
     },
     "execution_count": 212,
     "metadata": {},
     "output_type": "execute_result"
    }
   ],
   "source": [
    "train_acc"
   ]
  },
  {
   "cell_type": "code",
   "execution_count": 213,
   "metadata": {},
   "outputs": [],
   "source": [
    "test_yhat = model.predict(X_test)\n",
    "test_acc = accuracy_score(y_test, test_yhat)"
   ]
  },
  {
   "cell_type": "code",
   "execution_count": 214,
   "metadata": {},
   "outputs": [
    {
     "data": {
      "text/plain": [
       "0.018292682926829267"
      ]
     },
     "execution_count": 214,
     "metadata": {},
     "output_type": "execute_result"
    }
   ],
   "source": [
    "test_acc"
   ]
  },
  {
   "cell_type": "code",
   "execution_count": 221,
   "metadata": {},
   "outputs": [
    {
     "data": {
      "image/png": "[encoded data removed]",
      "text/plain": [
       "<Figure size 432x288 with 1 Axes>"
      ]
     },
     "metadata": {
      "needs_background": "light"
     },
     "output_type": "display_data"
    }
   ],
   "source": [
    "values = [i for i in range(1, 21)]\n",
    "train_scores, test_scores = list(), list()\n",
    "# evaluate a decision tree for each depth\n",
    "for i in values:\n",
    "    # configure the model\n",
    "    model = RandomForestClassifier(max_depth=i)\n",
    "    # fit model on the training dataset\n",
    "    model.fit(X_train, y_train)\n",
    "\t# evaluate on the train dataset\n",
    "    train_yhat = model.predict(X_train)\n",
    "    train_acc = accuracy_score(y_train, train_yhat)\n",
    "    train_scores.append(train_acc)\n",
    "\t# evaluate on the test dataset\n",
    "    test_yhat = model.predict(X_test)\n",
    "    test_acc = accuracy_score(y_test, test_yhat)\n",
    "    test_scores.append(test_acc)\n",
    "\t# summarize progress\n",
    "# \tprint('>%d, train: %.3f, test: %.3f' % (i, train_acc, test_acc))\n",
    "# plot of train and test scores vs tree depth\n",
    "plt.plot(values, train_scores, '-o', label='Train')\n",
    "plt.plot(values, test_scores, '-o', label='Test')\n",
    "plt.legend()\n",
    "plt.show()"
   ]
  },
  {
   "cell_type": "code",
   "execution_count": 222,
   "metadata": {},
   "outputs": [],
   "source": [
    "# RandomForest"
   ]
  },
  {
   "cell_type": "markdown",
   "metadata": {},
   "source": [
    "# Random Forest,\n",
    "it can be referred to as a ‘Forest’ of trees and hence the name “Random Forest”. The term ‘Random’ is due to the fact that this algorithm is a forest of ‘Randomly created Decision Trees’.\n",
    "\n",
    "\n",
    "Regression: Prediction is the average prediction across the decision trees.\n",
    "Classification: Prediction is the majority vote class label predicted across the decision trees."
   ]
  },
  {
   "cell_type": "markdown",
   "metadata": {},
   "source": [
    "# why to use Random Forest\n",
    "The Decision Tree algorithm has a major disadvantage in that it causes over-fitting. This problem can be limited by implementing the Random Forest Regression in place of the Decision Tree Regression. Additionally, the Random Forest algorithm is also very fast and robust than other regression models."
   ]
  },
  {
   "cell_type": "markdown",
   "metadata": {},
   "source": [
    "![title](randomForest.jfif)"
   ]
  },
  {
   "cell_type": "code",
   "execution_count": 269,
   "metadata": {},
   "outputs": [
    {
     "data": {
      "text/html": [
       "<div>\n",
       "<style scoped>\n",
       "    .dataframe tbody tr th:only-of-type {\n",
       "        vertical-align: middle;\n",
       "    }\n",
       "\n",
       "    .dataframe tbody tr th {\n",
       "        vertical-align: top;\n",
       "    }\n",
       "\n",
       "    .dataframe thead th {\n",
       "        text-align: right;\n",
       "    }\n",
       "</style>\n",
       "<table border=\"1\" class=\"dataframe\">\n",
       "  <thead>\n",
       "    <tr style=\"text-align: right;\">\n",
       "      <th></th>\n",
       "      <th>Temperature</th>\n",
       "      <th>Revenue</th>\n",
       "    </tr>\n",
       "  </thead>\n",
       "  <tbody>\n",
       "    <tr>\n",
       "      <th>0</th>\n",
       "      <td>24.566884</td>\n",
       "      <td>534.799028</td>\n",
       "    </tr>\n",
       "    <tr>\n",
       "      <th>1</th>\n",
       "      <td>26.005191</td>\n",
       "      <td>625.190122</td>\n",
       "    </tr>\n",
       "    <tr>\n",
       "      <th>2</th>\n",
       "      <td>27.790554</td>\n",
       "      <td>660.632289</td>\n",
       "    </tr>\n",
       "    <tr>\n",
       "      <th>3</th>\n",
       "      <td>20.595335</td>\n",
       "      <td>487.706960</td>\n",
       "    </tr>\n",
       "    <tr>\n",
       "      <th>4</th>\n",
       "      <td>11.503498</td>\n",
       "      <td>316.240194</td>\n",
       "    </tr>\n",
       "  </tbody>\n",
       "</table>\n",
       "</div>"
      ],
      "text/plain": [
       "   Temperature     Revenue\n",
       "0    24.566884  534.799028\n",
       "1    26.005191  625.190122\n",
       "2    27.790554  660.632289\n",
       "3    20.595335  487.706960\n",
       "4    11.503498  316.240194"
      ]
     },
     "execution_count": 269,
     "metadata": {},
     "output_type": "execute_result"
    }
   ],
   "source": [
    "dataset = pd.read_csv('https://raw.githubusercontent.com/mk-gurucharan/Regression/master/IceCreamData.csv')\n",
    "X = dataset['Temperature'].values\n",
    "y = dataset['Revenue'].values\n",
    "dataset.head(5)\n"
   ]
  },
  {
   "cell_type": "code",
   "execution_count": 270,
   "metadata": {},
   "outputs": [],
   "source": [
    "from sklearn.model_selection import train_test_split\n",
    "X_train, X_test, y_train, y_test = train_test_split(X, y, test_size = 0.05)"
   ]
  },
  {
   "cell_type": "code",
   "execution_count": 271,
   "metadata": {},
   "outputs": [
    {
     "name": "stderr",
     "output_type": "stream",
     "text": [
      "<ipython-input-271-cade36db796f>:4: DataConversionWarning: A column-vector y was passed when a 1d array was expected. Please change the shape of y to (n_samples,), for example using ravel().\n",
      "  regressor.fit(X_train.reshape(-1,1), y_train.reshape(-1,1))\n"
     ]
    },
    {
     "data": {
      "text/plain": [
       "RandomForestRegressor(n_estimators=10, random_state=0)"
      ]
     },
     "execution_count": 271,
     "metadata": {},
     "output_type": "execute_result"
    }
   ],
   "source": [
    "# Fitting Random Forest Regression to the dataset\n",
    "from sklearn.ensemble import RandomForestRegressor\n",
    "regressor = RandomForestRegressor(n_estimators = 10, random_state = 0)\n",
    "regressor.fit(X_train.reshape(-1,1), y_train.reshape(-1,1))"
   ]
  },
  {
   "cell_type": "code",
   "execution_count": 272,
   "metadata": {},
   "outputs": [],
   "source": [
    "y_pred = regressor.predict(X_test.reshape(-1,1))"
   ]
  },
  {
   "cell_type": "code",
   "execution_count": 274,
   "metadata": {},
   "outputs": [],
   "source": [
    "df = pd.DataFrame({'Real Values':y_test.reshape(-1), 'Predicted Values':y_pred.reshape(-1)})"
   ]
  },
  {
   "cell_type": "code",
   "execution_count": 275,
   "metadata": {},
   "outputs": [
    {
     "data": {
      "text/html": [
       "<div>\n",
       "<style scoped>\n",
       "    .dataframe tbody tr th:only-of-type {\n",
       "        vertical-align: middle;\n",
       "    }\n",
       "\n",
       "    .dataframe tbody tr th {\n",
       "        vertical-align: top;\n",
       "    }\n",
       "\n",
       "    .dataframe thead th {\n",
       "        text-align: right;\n",
       "    }\n",
       "</style>\n",
       "<table border=\"1\" class=\"dataframe\">\n",
       "  <thead>\n",
       "    <tr style=\"text-align: right;\">\n",
       "      <th></th>\n",
       "      <th>Real Values</th>\n",
       "      <th>Predicted Values</th>\n",
       "    </tr>\n",
       "  </thead>\n",
       "  <tbody>\n",
       "    <tr>\n",
       "      <th>0</th>\n",
       "      <td>376.554472</td>\n",
       "      <td>394.749093</td>\n",
       "    </tr>\n",
       "    <tr>\n",
       "      <th>1</th>\n",
       "      <td>656.636523</td>\n",
       "      <td>642.757232</td>\n",
       "    </tr>\n",
       "    <tr>\n",
       "      <th>2</th>\n",
       "      <td>212.591740</td>\n",
       "      <td>241.953905</td>\n",
       "    </tr>\n",
       "    <tr>\n",
       "      <th>3</th>\n",
       "      <td>441.508733</td>\n",
       "      <td>480.139363</td>\n",
       "    </tr>\n",
       "    <tr>\n",
       "      <th>4</th>\n",
       "      <td>916.648613</td>\n",
       "      <td>880.880544</td>\n",
       "    </tr>\n",
       "    <tr>\n",
       "      <th>5</th>\n",
       "      <td>410.860905</td>\n",
       "      <td>454.411862</td>\n",
       "    </tr>\n",
       "    <tr>\n",
       "      <th>6</th>\n",
       "      <td>623.248701</td>\n",
       "      <td>623.067690</td>\n",
       "    </tr>\n",
       "    <tr>\n",
       "      <th>7</th>\n",
       "      <td>450.473207</td>\n",
       "      <td>446.530297</td>\n",
       "    </tr>\n",
       "    <tr>\n",
       "      <th>8</th>\n",
       "      <td>483.333078</td>\n",
       "      <td>501.252576</td>\n",
       "    </tr>\n",
       "    <tr>\n",
       "      <th>9</th>\n",
       "      <td>32.546619</td>\n",
       "      <td>75.864106</td>\n",
       "    </tr>\n",
       "    <tr>\n",
       "      <th>10</th>\n",
       "      <td>274.065619</td>\n",
       "      <td>287.026618</td>\n",
       "    </tr>\n",
       "    <tr>\n",
       "      <th>11</th>\n",
       "      <td>581.262016</td>\n",
       "      <td>604.207309</td>\n",
       "    </tr>\n",
       "    <tr>\n",
       "      <th>12</th>\n",
       "      <td>520.470310</td>\n",
       "      <td>495.876819</td>\n",
       "    </tr>\n",
       "    <tr>\n",
       "      <th>13</th>\n",
       "      <td>555.245217</td>\n",
       "      <td>525.394195</td>\n",
       "    </tr>\n",
       "    <tr>\n",
       "      <th>14</th>\n",
       "      <td>471.701557</td>\n",
       "      <td>480.178759</td>\n",
       "    </tr>\n",
       "    <tr>\n",
       "      <th>15</th>\n",
       "      <td>383.956240</td>\n",
       "      <td>393.169488</td>\n",
       "    </tr>\n",
       "    <tr>\n",
       "      <th>16</th>\n",
       "      <td>827.684831</td>\n",
       "      <td>845.652722</td>\n",
       "    </tr>\n",
       "    <tr>\n",
       "      <th>17</th>\n",
       "      <td>690.789296</td>\n",
       "      <td>697.067613</td>\n",
       "    </tr>\n",
       "    <tr>\n",
       "      <th>18</th>\n",
       "      <td>685.362388</td>\n",
       "      <td>667.761505</td>\n",
       "    </tr>\n",
       "    <tr>\n",
       "      <th>19</th>\n",
       "      <td>477.841718</td>\n",
       "      <td>443.054783</td>\n",
       "    </tr>\n",
       "    <tr>\n",
       "      <th>20</th>\n",
       "      <td>528.116240</td>\n",
       "      <td>507.197472</td>\n",
       "    </tr>\n",
       "    <tr>\n",
       "      <th>21</th>\n",
       "      <td>698.971806</td>\n",
       "      <td>699.722971</td>\n",
       "    </tr>\n",
       "    <tr>\n",
       "      <th>22</th>\n",
       "      <td>618.172091</td>\n",
       "      <td>642.665544</td>\n",
       "    </tr>\n",
       "    <tr>\n",
       "      <th>23</th>\n",
       "      <td>500.065779</td>\n",
       "      <td>522.004357</td>\n",
       "    </tr>\n",
       "    <tr>\n",
       "      <th>24</th>\n",
       "      <td>578.360435</td>\n",
       "      <td>552.539858</td>\n",
       "    </tr>\n",
       "  </tbody>\n",
       "</table>\n",
       "</div>"
      ],
      "text/plain": [
       "    Real Values  Predicted Values\n",
       "0    376.554472        394.749093\n",
       "1    656.636523        642.757232\n",
       "2    212.591740        241.953905\n",
       "3    441.508733        480.139363\n",
       "4    916.648613        880.880544\n",
       "5    410.860905        454.411862\n",
       "6    623.248701        623.067690\n",
       "7    450.473207        446.530297\n",
       "8    483.333078        501.252576\n",
       "9     32.546619         75.864106\n",
       "10   274.065619        287.026618\n",
       "11   581.262016        604.207309\n",
       "12   520.470310        495.876819\n",
       "13   555.245217        525.394195\n",
       "14   471.701557        480.178759\n",
       "15   383.956240        393.169488\n",
       "16   827.684831        845.652722\n",
       "17   690.789296        697.067613\n",
       "18   685.362388        667.761505\n",
       "19   477.841718        443.054783\n",
       "20   528.116240        507.197472\n",
       "21   698.971806        699.722971\n",
       "22   618.172091        642.665544\n",
       "23   500.065779        522.004357\n",
       "24   578.360435        552.539858"
      ]
     },
     "execution_count": 275,
     "metadata": {},
     "output_type": "execute_result"
    }
   ],
   "source": [
    "df"
   ]
  },
  {
   "cell_type": "code",
   "execution_count": 310,
   "metadata": {},
   "outputs": [
    {
     "data": {
      "text/plain": [
       "0.9870173802544457"
      ]
     },
     "execution_count": 310,
     "metadata": {},
     "output_type": "execute_result"
    }
   ],
   "source": [
    "acc=regressor.score(X_train.reshape(-1,1),y_train.reshape(-1,1))\n",
    "test=regressor.score(X_test.reshape(-1,1),y_test)\n",
    "# test\n",
    "acc"
   ]
  },
  {
   "cell_type": "code",
   "execution_count": 312,
   "metadata": {},
   "outputs": [
    {
     "data": {
      "image/png": "[encoded data removed]",
      "text/plain": [
       "<Figure size 432x288 with 1 Axes>"
      ]
     },
     "metadata": {
      "needs_background": "light"
     },
     "output_type": "display_data"
    }
   ],
   "source": [
    "X_grid = np.arange(min(X), max(X), 0.01)\n",
    "X_grid = X_grid.reshape((len(X_grid), 1))\n",
    "plt.scatter(X_test, y_test, color = 'red')\n",
    "plt.scatter(X_test, y_pred, color = 'green')\n",
    "plt.title('Random Forest Regression')\n",
    "plt.xlabel('Temperature')\n",
    "plt.ylabel('Revenue')\n",
    "plt.show()"
   ]
  },
  {
   "cell_type": "code",
   "execution_count": 280,
   "metadata": {},
   "outputs": [
    {
     "data": {
      "image/png": "[encoded data removed]",
      "text/plain": [
       "<Figure size 432x288 with 1 Axes>"
      ]
     },
     "metadata": {
      "needs_background": "light"
     },
     "output_type": "display_data"
    }
   ],
   "source": [
    "plt.plot(X_grid, regressor.predict(X_grid), color = 'black')\n",
    "plt.title('Random Forest Regression')\n",
    "plt.xlabel('Temperature')\n",
    "plt.ylabel('Revenue')\n",
    "plt.show()"
   ]
  },
  {
   "cell_type": "code",
   "execution_count": 303,
   "metadata": {},
   "outputs": [],
   "source": [
    "train_yhat=regressor.predict(X_train.reshape(-1,1))\n",
    "test_yhat=regressor.predict(X_test.reshape(-1,1))\n"
   ]
  },
  {
   "cell_type": "code",
   "execution_count": 302,
   "metadata": {},
   "outputs": [],
   "source": [
    "# train_acc = score(y_train, train_yhat)\n",
    "# test_acc=score(y_test,test_yhat)"
   ]
  },
  {
   "cell_type": "code",
   "execution_count": 305,
   "metadata": {},
   "outputs": [
    {
     "name": "stderr",
     "output_type": "stream",
     "text": [
      "<ipython-input-305-a7d852f7c711>:5: DataConversionWarning: A column-vector y was passed when a 1d array was expected. Please change the shape of y to (n_samples,), for example using ravel().\n",
      "  model.fit(X_train[:m],y_train[:m])\n",
      "<ipython-input-305-a7d852f7c711>:5: DataConversionWarning: A column-vector y was passed when a 1d array was expected. Please change the shape of y to (n_samples,), for example using ravel().\n",
      "  model.fit(X_train[:m],y_train[:m])\n",
      "<ipython-input-305-a7d852f7c711>:5: DataConversionWarning: A column-vector y was passed when a 1d array was expected. Please change the shape of y to (n_samples,), for example using ravel().\n",
      "  model.fit(X_train[:m],y_train[:m])\n",
      "<ipython-input-305-a7d852f7c711>:5: DataConversionWarning: A column-vector y was passed when a 1d array was expected. Please change the shape of y to (n_samples,), for example using ravel().\n",
      "  model.fit(X_train[:m],y_train[:m])\n",
      "<ipython-input-305-a7d852f7c711>:5: DataConversionWarning: A column-vector y was passed when a 1d array was expected. Please change the shape of y to (n_samples,), for example using ravel().\n",
      "  model.fit(X_train[:m],y_train[:m])\n",
      "<ipython-input-305-a7d852f7c711>:5: DataConversionWarning: A column-vector y was passed when a 1d array was expected. Please change the shape of y to (n_samples,), for example using ravel().\n",
      "  model.fit(X_train[:m],y_train[:m])\n",
      "<ipython-input-305-a7d852f7c711>:5: DataConversionWarning: A column-vector y was passed when a 1d array was expected. Please change the shape of y to (n_samples,), for example using ravel().\n",
      "  model.fit(X_train[:m],y_train[:m])\n",
      "<ipython-input-305-a7d852f7c711>:5: DataConversionWarning: A column-vector y was passed when a 1d array was expected. Please change the shape of y to (n_samples,), for example using ravel().\n",
      "  model.fit(X_train[:m],y_train[:m])\n",
      "<ipython-input-305-a7d852f7c711>:5: DataConversionWarning: A column-vector y was passed when a 1d array was expected. Please change the shape of y to (n_samples,), for example using ravel().\n",
      "  model.fit(X_train[:m],y_train[:m])\n",
      "<ipython-input-305-a7d852f7c711>:5: DataConversionWarning: A column-vector y was passed when a 1d array was expected. Please change the shape of y to (n_samples,), for example using ravel().\n",
      "  model.fit(X_train[:m],y_train[:m])\n",
      "<ipython-input-305-a7d852f7c711>:5: DataConversionWarning: A column-vector y was passed when a 1d array was expected. Please change the shape of y to (n_samples,), for example using ravel().\n",
      "  model.fit(X_train[:m],y_train[:m])\n",
      "<ipython-input-305-a7d852f7c711>:5: DataConversionWarning: A column-vector y was passed when a 1d array was expected. Please change the shape of y to (n_samples,), for example using ravel().\n",
      "  model.fit(X_train[:m],y_train[:m])\n",
      "<ipython-input-305-a7d852f7c711>:5: DataConversionWarning: A column-vector y was passed when a 1d array was expected. Please change the shape of y to (n_samples,), for example using ravel().\n",
      "  model.fit(X_train[:m],y_train[:m])\n",
      "<ipython-input-305-a7d852f7c711>:5: DataConversionWarning: A column-vector y was passed when a 1d array was expected. Please change the shape of y to (n_samples,), for example using ravel().\n",
      "  model.fit(X_train[:m],y_train[:m])\n",
      "<ipython-input-305-a7d852f7c711>:5: DataConversionWarning: A column-vector y was passed when a 1d array was expected. Please change the shape of y to (n_samples,), for example using ravel().\n",
      "  model.fit(X_train[:m],y_train[:m])\n",
      "<ipython-input-305-a7d852f7c711>:5: DataConversionWarning: A column-vector y was passed when a 1d array was expected. Please change the shape of y to (n_samples,), for example using ravel().\n",
      "  model.fit(X_train[:m],y_train[:m])\n",
      "<ipython-input-305-a7d852f7c711>:5: DataConversionWarning: A column-vector y was passed when a 1d array was expected. Please change the shape of y to (n_samples,), for example using ravel().\n",
      "  model.fit(X_train[:m],y_train[:m])\n",
      "<ipython-input-305-a7d852f7c711>:5: DataConversionWarning: A column-vector y was passed when a 1d array was expected. Please change the shape of y to (n_samples,), for example using ravel().\n",
      "  model.fit(X_train[:m],y_train[:m])\n",
      "<ipython-input-305-a7d852f7c711>:5: DataConversionWarning: A column-vector y was passed when a 1d array was expected. Please change the shape of y to (n_samples,), for example using ravel().\n",
      "  model.fit(X_train[:m],y_train[:m])\n",
      "<ipython-input-305-a7d852f7c711>:5: DataConversionWarning: A column-vector y was passed when a 1d array was expected. Please change the shape of y to (n_samples,), for example using ravel().\n",
      "  model.fit(X_train[:m],y_train[:m])\n",
      "<ipython-input-305-a7d852f7c711>:5: DataConversionWarning: A column-vector y was passed when a 1d array was expected. Please change the shape of y to (n_samples,), for example using ravel().\n",
      "  model.fit(X_train[:m],y_train[:m])\n",
      "<ipython-input-305-a7d852f7c711>:5: DataConversionWarning: A column-vector y was passed when a 1d array was expected. Please change the shape of y to (n_samples,), for example using ravel().\n",
      "  model.fit(X_train[:m],y_train[:m])\n",
      "<ipython-input-305-a7d852f7c711>:5: DataConversionWarning: A column-vector y was passed when a 1d array was expected. Please change the shape of y to (n_samples,), for example using ravel().\n",
      "  model.fit(X_train[:m],y_train[:m])\n",
      "<ipython-input-305-a7d852f7c711>:5: DataConversionWarning: A column-vector y was passed when a 1d array was expected. Please change the shape of y to (n_samples,), for example using ravel().\n",
      "  model.fit(X_train[:m],y_train[:m])\n",
      "<ipython-input-305-a7d852f7c711>:5: DataConversionWarning: A column-vector y was passed when a 1d array was expected. Please change the shape of y to (n_samples,), for example using ravel().\n",
      "  model.fit(X_train[:m],y_train[:m])\n",
      "<ipython-input-305-a7d852f7c711>:5: DataConversionWarning: A column-vector y was passed when a 1d array was expected. Please change the shape of y to (n_samples,), for example using ravel().\n",
      "  model.fit(X_train[:m],y_train[:m])\n",
      "<ipython-input-305-a7d852f7c711>:5: DataConversionWarning: A column-vector y was passed when a 1d array was expected. Please change the shape of y to (n_samples,), for example using ravel().\n",
      "  model.fit(X_train[:m],y_train[:m])\n",
      "<ipython-input-305-a7d852f7c711>:5: DataConversionWarning: A column-vector y was passed when a 1d array was expected. Please change the shape of y to (n_samples,), for example using ravel().\n",
      "  model.fit(X_train[:m],y_train[:m])\n",
      "<ipython-input-305-a7d852f7c711>:5: DataConversionWarning: A column-vector y was passed when a 1d array was expected. Please change the shape of y to (n_samples,), for example using ravel().\n",
      "  model.fit(X_train[:m],y_train[:m])\n",
      "<ipython-input-305-a7d852f7c711>:5: DataConversionWarning: A column-vector y was passed when a 1d array was expected. Please change the shape of y to (n_samples,), for example using ravel().\n",
      "  model.fit(X_train[:m],y_train[:m])\n",
      "<ipython-input-305-a7d852f7c711>:5: DataConversionWarning: A column-vector y was passed when a 1d array was expected. Please change the shape of y to (n_samples,), for example using ravel().\n",
      "  model.fit(X_train[:m],y_train[:m])\n",
      "<ipython-input-305-a7d852f7c711>:5: DataConversionWarning: A column-vector y was passed when a 1d array was expected. Please change the shape of y to (n_samples,), for example using ravel().\n",
      "  model.fit(X_train[:m],y_train[:m])\n",
      "<ipython-input-305-a7d852f7c711>:5: DataConversionWarning: A column-vector y was passed when a 1d array was expected. Please change the shape of y to (n_samples,), for example using ravel().\n",
      "  model.fit(X_train[:m],y_train[:m])\n",
      "<ipython-input-305-a7d852f7c711>:5: DataConversionWarning: A column-vector y was passed when a 1d array was expected. Please change the shape of y to (n_samples,), for example using ravel().\n",
      "  model.fit(X_train[:m],y_train[:m])\n",
      "<ipython-input-305-a7d852f7c711>:5: DataConversionWarning: A column-vector y was passed when a 1d array was expected. Please change the shape of y to (n_samples,), for example using ravel().\n",
      "  model.fit(X_train[:m],y_train[:m])\n",
      "<ipython-input-305-a7d852f7c711>:5: DataConversionWarning: A column-vector y was passed when a 1d array was expected. Please change the shape of y to (n_samples,), for example using ravel().\n",
      "  model.fit(X_train[:m],y_train[:m])\n",
      "<ipython-input-305-a7d852f7c711>:5: DataConversionWarning: A column-vector y was passed when a 1d array was expected. Please change the shape of y to (n_samples,), for example using ravel().\n",
      "  model.fit(X_train[:m],y_train[:m])\n",
      "<ipython-input-305-a7d852f7c711>:5: DataConversionWarning: A column-vector y was passed when a 1d array was expected. Please change the shape of y to (n_samples,), for example using ravel().\n",
      "  model.fit(X_train[:m],y_train[:m])\n",
      "<ipython-input-305-a7d852f7c711>:5: DataConversionWarning: A column-vector y was passed when a 1d array was expected. Please change the shape of y to (n_samples,), for example using ravel().\n",
      "  model.fit(X_train[:m],y_train[:m])\n",
      "<ipython-input-305-a7d852f7c711>:5: DataConversionWarning: A column-vector y was passed when a 1d array was expected. Please change the shape of y to (n_samples,), for example using ravel().\n",
      "  model.fit(X_train[:m],y_train[:m])\n",
      "<ipython-input-305-a7d852f7c711>:5: DataConversionWarning: A column-vector y was passed when a 1d array was expected. Please change the shape of y to (n_samples,), for example using ravel().\n",
      "  model.fit(X_train[:m],y_train[:m])\n",
      "<ipython-input-305-a7d852f7c711>:5: DataConversionWarning: A column-vector y was passed when a 1d array was expected. Please change the shape of y to (n_samples,), for example using ravel().\n",
      "  model.fit(X_train[:m],y_train[:m])\n",
      "<ipython-input-305-a7d852f7c711>:5: DataConversionWarning: A column-vector y was passed when a 1d array was expected. Please change the shape of y to (n_samples,), for example using ravel().\n",
      "  model.fit(X_train[:m],y_train[:m])\n",
      "<ipython-input-305-a7d852f7c711>:5: DataConversionWarning: A column-vector y was passed when a 1d array was expected. Please change the shape of y to (n_samples,), for example using ravel().\n",
      "  model.fit(X_train[:m],y_train[:m])\n",
      "<ipython-input-305-a7d852f7c711>:5: DataConversionWarning: A column-vector y was passed when a 1d array was expected. Please change the shape of y to (n_samples,), for example using ravel().\n",
      "  model.fit(X_train[:m],y_train[:m])\n"
     ]
    },
    {
     "name": "stderr",
     "output_type": "stream",
     "text": [
      "<ipython-input-305-a7d852f7c711>:5: DataConversionWarning: A column-vector y was passed when a 1d array was expected. Please change the shape of y to (n_samples,), for example using ravel().\n",
      "  model.fit(X_train[:m],y_train[:m])\n",
      "<ipython-input-305-a7d852f7c711>:5: DataConversionWarning: A column-vector y was passed when a 1d array was expected. Please change the shape of y to (n_samples,), for example using ravel().\n",
      "  model.fit(X_train[:m],y_train[:m])\n",
      "<ipython-input-305-a7d852f7c711>:5: DataConversionWarning: A column-vector y was passed when a 1d array was expected. Please change the shape of y to (n_samples,), for example using ravel().\n",
      "  model.fit(X_train[:m],y_train[:m])\n",
      "<ipython-input-305-a7d852f7c711>:5: DataConversionWarning: A column-vector y was passed when a 1d array was expected. Please change the shape of y to (n_samples,), for example using ravel().\n",
      "  model.fit(X_train[:m],y_train[:m])\n",
      "<ipython-input-305-a7d852f7c711>:5: DataConversionWarning: A column-vector y was passed when a 1d array was expected. Please change the shape of y to (n_samples,), for example using ravel().\n",
      "  model.fit(X_train[:m],y_train[:m])\n",
      "<ipython-input-305-a7d852f7c711>:5: DataConversionWarning: A column-vector y was passed when a 1d array was expected. Please change the shape of y to (n_samples,), for example using ravel().\n",
      "  model.fit(X_train[:m],y_train[:m])\n",
      "<ipython-input-305-a7d852f7c711>:5: DataConversionWarning: A column-vector y was passed when a 1d array was expected. Please change the shape of y to (n_samples,), for example using ravel().\n",
      "  model.fit(X_train[:m],y_train[:m])\n",
      "<ipython-input-305-a7d852f7c711>:5: DataConversionWarning: A column-vector y was passed when a 1d array was expected. Please change the shape of y to (n_samples,), for example using ravel().\n",
      "  model.fit(X_train[:m],y_train[:m])\n",
      "<ipython-input-305-a7d852f7c711>:5: DataConversionWarning: A column-vector y was passed when a 1d array was expected. Please change the shape of y to (n_samples,), for example using ravel().\n",
      "  model.fit(X_train[:m],y_train[:m])\n",
      "<ipython-input-305-a7d852f7c711>:5: DataConversionWarning: A column-vector y was passed when a 1d array was expected. Please change the shape of y to (n_samples,), for example using ravel().\n",
      "  model.fit(X_train[:m],y_train[:m])\n",
      "<ipython-input-305-a7d852f7c711>:5: DataConversionWarning: A column-vector y was passed when a 1d array was expected. Please change the shape of y to (n_samples,), for example using ravel().\n",
      "  model.fit(X_train[:m],y_train[:m])\n",
      "<ipython-input-305-a7d852f7c711>:5: DataConversionWarning: A column-vector y was passed when a 1d array was expected. Please change the shape of y to (n_samples,), for example using ravel().\n",
      "  model.fit(X_train[:m],y_train[:m])\n",
      "<ipython-input-305-a7d852f7c711>:5: DataConversionWarning: A column-vector y was passed when a 1d array was expected. Please change the shape of y to (n_samples,), for example using ravel().\n",
      "  model.fit(X_train[:m],y_train[:m])\n",
      "<ipython-input-305-a7d852f7c711>:5: DataConversionWarning: A column-vector y was passed when a 1d array was expected. Please change the shape of y to (n_samples,), for example using ravel().\n",
      "  model.fit(X_train[:m],y_train[:m])\n",
      "<ipython-input-305-a7d852f7c711>:5: DataConversionWarning: A column-vector y was passed when a 1d array was expected. Please change the shape of y to (n_samples,), for example using ravel().\n",
      "  model.fit(X_train[:m],y_train[:m])\n",
      "<ipython-input-305-a7d852f7c711>:5: DataConversionWarning: A column-vector y was passed when a 1d array was expected. Please change the shape of y to (n_samples,), for example using ravel().\n",
      "  model.fit(X_train[:m],y_train[:m])\n",
      "<ipython-input-305-a7d852f7c711>:5: DataConversionWarning: A column-vector y was passed when a 1d array was expected. Please change the shape of y to (n_samples,), for example using ravel().\n",
      "  model.fit(X_train[:m],y_train[:m])\n",
      "<ipython-input-305-a7d852f7c711>:5: DataConversionWarning: A column-vector y was passed when a 1d array was expected. Please change the shape of y to (n_samples,), for example using ravel().\n",
      "  model.fit(X_train[:m],y_train[:m])\n",
      "<ipython-input-305-a7d852f7c711>:5: DataConversionWarning: A column-vector y was passed when a 1d array was expected. Please change the shape of y to (n_samples,), for example using ravel().\n",
      "  model.fit(X_train[:m],y_train[:m])\n",
      "<ipython-input-305-a7d852f7c711>:5: DataConversionWarning: A column-vector y was passed when a 1d array was expected. Please change the shape of y to (n_samples,), for example using ravel().\n",
      "  model.fit(X_train[:m],y_train[:m])\n",
      "<ipython-input-305-a7d852f7c711>:5: DataConversionWarning: A column-vector y was passed when a 1d array was expected. Please change the shape of y to (n_samples,), for example using ravel().\n",
      "  model.fit(X_train[:m],y_train[:m])\n",
      "<ipython-input-305-a7d852f7c711>:5: DataConversionWarning: A column-vector y was passed when a 1d array was expected. Please change the shape of y to (n_samples,), for example using ravel().\n",
      "  model.fit(X_train[:m],y_train[:m])\n",
      "<ipython-input-305-a7d852f7c711>:5: DataConversionWarning: A column-vector y was passed when a 1d array was expected. Please change the shape of y to (n_samples,), for example using ravel().\n",
      "  model.fit(X_train[:m],y_train[:m])\n",
      "<ipython-input-305-a7d852f7c711>:5: DataConversionWarning: A column-vector y was passed when a 1d array was expected. Please change the shape of y to (n_samples,), for example using ravel().\n",
      "  model.fit(X_train[:m],y_train[:m])\n",
      "<ipython-input-305-a7d852f7c711>:5: DataConversionWarning: A column-vector y was passed when a 1d array was expected. Please change the shape of y to (n_samples,), for example using ravel().\n",
      "  model.fit(X_train[:m],y_train[:m])\n",
      "<ipython-input-305-a7d852f7c711>:5: DataConversionWarning: A column-vector y was passed when a 1d array was expected. Please change the shape of y to (n_samples,), for example using ravel().\n",
      "  model.fit(X_train[:m],y_train[:m])\n",
      "<ipython-input-305-a7d852f7c711>:5: DataConversionWarning: A column-vector y was passed when a 1d array was expected. Please change the shape of y to (n_samples,), for example using ravel().\n",
      "  model.fit(X_train[:m],y_train[:m])\n",
      "<ipython-input-305-a7d852f7c711>:5: DataConversionWarning: A column-vector y was passed when a 1d array was expected. Please change the shape of y to (n_samples,), for example using ravel().\n",
      "  model.fit(X_train[:m],y_train[:m])\n",
      "<ipython-input-305-a7d852f7c711>:5: DataConversionWarning: A column-vector y was passed when a 1d array was expected. Please change the shape of y to (n_samples,), for example using ravel().\n",
      "  model.fit(X_train[:m],y_train[:m])\n",
      "<ipython-input-305-a7d852f7c711>:5: DataConversionWarning: A column-vector y was passed when a 1d array was expected. Please change the shape of y to (n_samples,), for example using ravel().\n",
      "  model.fit(X_train[:m],y_train[:m])\n",
      "<ipython-input-305-a7d852f7c711>:5: DataConversionWarning: A column-vector y was passed when a 1d array was expected. Please change the shape of y to (n_samples,), for example using ravel().\n",
      "  model.fit(X_train[:m],y_train[:m])\n",
      "<ipython-input-305-a7d852f7c711>:5: DataConversionWarning: A column-vector y was passed when a 1d array was expected. Please change the shape of y to (n_samples,), for example using ravel().\n",
      "  model.fit(X_train[:m],y_train[:m])\n",
      "<ipython-input-305-a7d852f7c711>:5: DataConversionWarning: A column-vector y was passed when a 1d array was expected. Please change the shape of y to (n_samples,), for example using ravel().\n",
      "  model.fit(X_train[:m],y_train[:m])\n",
      "<ipython-input-305-a7d852f7c711>:5: DataConversionWarning: A column-vector y was passed when a 1d array was expected. Please change the shape of y to (n_samples,), for example using ravel().\n",
      "  model.fit(X_train[:m],y_train[:m])\n",
      "<ipython-input-305-a7d852f7c711>:5: DataConversionWarning: A column-vector y was passed when a 1d array was expected. Please change the shape of y to (n_samples,), for example using ravel().\n",
      "  model.fit(X_train[:m],y_train[:m])\n",
      "<ipython-input-305-a7d852f7c711>:5: DataConversionWarning: A column-vector y was passed when a 1d array was expected. Please change the shape of y to (n_samples,), for example using ravel().\n",
      "  model.fit(X_train[:m],y_train[:m])\n",
      "<ipython-input-305-a7d852f7c711>:5: DataConversionWarning: A column-vector y was passed when a 1d array was expected. Please change the shape of y to (n_samples,), for example using ravel().\n",
      "  model.fit(X_train[:m],y_train[:m])\n",
      "<ipython-input-305-a7d852f7c711>:5: DataConversionWarning: A column-vector y was passed when a 1d array was expected. Please change the shape of y to (n_samples,), for example using ravel().\n",
      "  model.fit(X_train[:m],y_train[:m])\n",
      "<ipython-input-305-a7d852f7c711>:5: DataConversionWarning: A column-vector y was passed when a 1d array was expected. Please change the shape of y to (n_samples,), for example using ravel().\n",
      "  model.fit(X_train[:m],y_train[:m])\n",
      "<ipython-input-305-a7d852f7c711>:5: DataConversionWarning: A column-vector y was passed when a 1d array was expected. Please change the shape of y to (n_samples,), for example using ravel().\n",
      "  model.fit(X_train[:m],y_train[:m])\n"
     ]
    },
    {
     "name": "stderr",
     "output_type": "stream",
     "text": [
      "<ipython-input-305-a7d852f7c711>:5: DataConversionWarning: A column-vector y was passed when a 1d array was expected. Please change the shape of y to (n_samples,), for example using ravel().\n",
      "  model.fit(X_train[:m],y_train[:m])\n",
      "<ipython-input-305-a7d852f7c711>:5: DataConversionWarning: A column-vector y was passed when a 1d array was expected. Please change the shape of y to (n_samples,), for example using ravel().\n",
      "  model.fit(X_train[:m],y_train[:m])\n",
      "<ipython-input-305-a7d852f7c711>:5: DataConversionWarning: A column-vector y was passed when a 1d array was expected. Please change the shape of y to (n_samples,), for example using ravel().\n",
      "  model.fit(X_train[:m],y_train[:m])\n",
      "<ipython-input-305-a7d852f7c711>:5: DataConversionWarning: A column-vector y was passed when a 1d array was expected. Please change the shape of y to (n_samples,), for example using ravel().\n",
      "  model.fit(X_train[:m],y_train[:m])\n",
      "<ipython-input-305-a7d852f7c711>:5: DataConversionWarning: A column-vector y was passed when a 1d array was expected. Please change the shape of y to (n_samples,), for example using ravel().\n",
      "  model.fit(X_train[:m],y_train[:m])\n",
      "<ipython-input-305-a7d852f7c711>:5: DataConversionWarning: A column-vector y was passed when a 1d array was expected. Please change the shape of y to (n_samples,), for example using ravel().\n",
      "  model.fit(X_train[:m],y_train[:m])\n",
      "<ipython-input-305-a7d852f7c711>:5: DataConversionWarning: A column-vector y was passed when a 1d array was expected. Please change the shape of y to (n_samples,), for example using ravel().\n",
      "  model.fit(X_train[:m],y_train[:m])\n",
      "<ipython-input-305-a7d852f7c711>:5: DataConversionWarning: A column-vector y was passed when a 1d array was expected. Please change the shape of y to (n_samples,), for example using ravel().\n",
      "  model.fit(X_train[:m],y_train[:m])\n",
      "<ipython-input-305-a7d852f7c711>:5: DataConversionWarning: A column-vector y was passed when a 1d array was expected. Please change the shape of y to (n_samples,), for example using ravel().\n",
      "  model.fit(X_train[:m],y_train[:m])\n",
      "<ipython-input-305-a7d852f7c711>:5: DataConversionWarning: A column-vector y was passed when a 1d array was expected. Please change the shape of y to (n_samples,), for example using ravel().\n",
      "  model.fit(X_train[:m],y_train[:m])\n",
      "<ipython-input-305-a7d852f7c711>:5: DataConversionWarning: A column-vector y was passed when a 1d array was expected. Please change the shape of y to (n_samples,), for example using ravel().\n",
      "  model.fit(X_train[:m],y_train[:m])\n",
      "<ipython-input-305-a7d852f7c711>:5: DataConversionWarning: A column-vector y was passed when a 1d array was expected. Please change the shape of y to (n_samples,), for example using ravel().\n",
      "  model.fit(X_train[:m],y_train[:m])\n",
      "<ipython-input-305-a7d852f7c711>:5: DataConversionWarning: A column-vector y was passed when a 1d array was expected. Please change the shape of y to (n_samples,), for example using ravel().\n",
      "  model.fit(X_train[:m],y_train[:m])\n",
      "<ipython-input-305-a7d852f7c711>:5: DataConversionWarning: A column-vector y was passed when a 1d array was expected. Please change the shape of y to (n_samples,), for example using ravel().\n",
      "  model.fit(X_train[:m],y_train[:m])\n",
      "<ipython-input-305-a7d852f7c711>:5: DataConversionWarning: A column-vector y was passed when a 1d array was expected. Please change the shape of y to (n_samples,), for example using ravel().\n",
      "  model.fit(X_train[:m],y_train[:m])\n",
      "<ipython-input-305-a7d852f7c711>:5: DataConversionWarning: A column-vector y was passed when a 1d array was expected. Please change the shape of y to (n_samples,), for example using ravel().\n",
      "  model.fit(X_train[:m],y_train[:m])\n",
      "<ipython-input-305-a7d852f7c711>:5: DataConversionWarning: A column-vector y was passed when a 1d array was expected. Please change the shape of y to (n_samples,), for example using ravel().\n",
      "  model.fit(X_train[:m],y_train[:m])\n",
      "<ipython-input-305-a7d852f7c711>:5: DataConversionWarning: A column-vector y was passed when a 1d array was expected. Please change the shape of y to (n_samples,), for example using ravel().\n",
      "  model.fit(X_train[:m],y_train[:m])\n",
      "<ipython-input-305-a7d852f7c711>:5: DataConversionWarning: A column-vector y was passed when a 1d array was expected. Please change the shape of y to (n_samples,), for example using ravel().\n",
      "  model.fit(X_train[:m],y_train[:m])\n",
      "<ipython-input-305-a7d852f7c711>:5: DataConversionWarning: A column-vector y was passed when a 1d array was expected. Please change the shape of y to (n_samples,), for example using ravel().\n",
      "  model.fit(X_train[:m],y_train[:m])\n",
      "<ipython-input-305-a7d852f7c711>:5: DataConversionWarning: A column-vector y was passed when a 1d array was expected. Please change the shape of y to (n_samples,), for example using ravel().\n",
      "  model.fit(X_train[:m],y_train[:m])\n",
      "<ipython-input-305-a7d852f7c711>:5: DataConversionWarning: A column-vector y was passed when a 1d array was expected. Please change the shape of y to (n_samples,), for example using ravel().\n",
      "  model.fit(X_train[:m],y_train[:m])\n",
      "<ipython-input-305-a7d852f7c711>:5: DataConversionWarning: A column-vector y was passed when a 1d array was expected. Please change the shape of y to (n_samples,), for example using ravel().\n",
      "  model.fit(X_train[:m],y_train[:m])\n",
      "<ipython-input-305-a7d852f7c711>:5: DataConversionWarning: A column-vector y was passed when a 1d array was expected. Please change the shape of y to (n_samples,), for example using ravel().\n",
      "  model.fit(X_train[:m],y_train[:m])\n",
      "<ipython-input-305-a7d852f7c711>:5: DataConversionWarning: A column-vector y was passed when a 1d array was expected. Please change the shape of y to (n_samples,), for example using ravel().\n",
      "  model.fit(X_train[:m],y_train[:m])\n",
      "<ipython-input-305-a7d852f7c711>:5: DataConversionWarning: A column-vector y was passed when a 1d array was expected. Please change the shape of y to (n_samples,), for example using ravel().\n",
      "  model.fit(X_train[:m],y_train[:m])\n",
      "<ipython-input-305-a7d852f7c711>:5: DataConversionWarning: A column-vector y was passed when a 1d array was expected. Please change the shape of y to (n_samples,), for example using ravel().\n",
      "  model.fit(X_train[:m],y_train[:m])\n",
      "<ipython-input-305-a7d852f7c711>:5: DataConversionWarning: A column-vector y was passed when a 1d array was expected. Please change the shape of y to (n_samples,), for example using ravel().\n",
      "  model.fit(X_train[:m],y_train[:m])\n",
      "<ipython-input-305-a7d852f7c711>:5: DataConversionWarning: A column-vector y was passed when a 1d array was expected. Please change the shape of y to (n_samples,), for example using ravel().\n",
      "  model.fit(X_train[:m],y_train[:m])\n",
      "<ipython-input-305-a7d852f7c711>:5: DataConversionWarning: A column-vector y was passed when a 1d array was expected. Please change the shape of y to (n_samples,), for example using ravel().\n",
      "  model.fit(X_train[:m],y_train[:m])\n",
      "<ipython-input-305-a7d852f7c711>:5: DataConversionWarning: A column-vector y was passed when a 1d array was expected. Please change the shape of y to (n_samples,), for example using ravel().\n",
      "  model.fit(X_train[:m],y_train[:m])\n",
      "<ipython-input-305-a7d852f7c711>:5: DataConversionWarning: A column-vector y was passed when a 1d array was expected. Please change the shape of y to (n_samples,), for example using ravel().\n",
      "  model.fit(X_train[:m],y_train[:m])\n",
      "<ipython-input-305-a7d852f7c711>:5: DataConversionWarning: A column-vector y was passed when a 1d array was expected. Please change the shape of y to (n_samples,), for example using ravel().\n",
      "  model.fit(X_train[:m],y_train[:m])\n",
      "<ipython-input-305-a7d852f7c711>:5: DataConversionWarning: A column-vector y was passed when a 1d array was expected. Please change the shape of y to (n_samples,), for example using ravel().\n",
      "  model.fit(X_train[:m],y_train[:m])\n",
      "<ipython-input-305-a7d852f7c711>:5: DataConversionWarning: A column-vector y was passed when a 1d array was expected. Please change the shape of y to (n_samples,), for example using ravel().\n",
      "  model.fit(X_train[:m],y_train[:m])\n",
      "<ipython-input-305-a7d852f7c711>:5: DataConversionWarning: A column-vector y was passed when a 1d array was expected. Please change the shape of y to (n_samples,), for example using ravel().\n",
      "  model.fit(X_train[:m],y_train[:m])\n",
      "<ipython-input-305-a7d852f7c711>:5: DataConversionWarning: A column-vector y was passed when a 1d array was expected. Please change the shape of y to (n_samples,), for example using ravel().\n",
      "  model.fit(X_train[:m],y_train[:m])\n",
      "<ipython-input-305-a7d852f7c711>:5: DataConversionWarning: A column-vector y was passed when a 1d array was expected. Please change the shape of y to (n_samples,), for example using ravel().\n",
      "  model.fit(X_train[:m],y_train[:m])\n"
     ]
    },
    {
     "name": "stderr",
     "output_type": "stream",
     "text": [
      "<ipython-input-305-a7d852f7c711>:5: DataConversionWarning: A column-vector y was passed when a 1d array was expected. Please change the shape of y to (n_samples,), for example using ravel().\n",
      "  model.fit(X_train[:m],y_train[:m])\n",
      "<ipython-input-305-a7d852f7c711>:5: DataConversionWarning: A column-vector y was passed when a 1d array was expected. Please change the shape of y to (n_samples,), for example using ravel().\n",
      "  model.fit(X_train[:m],y_train[:m])\n",
      "<ipython-input-305-a7d852f7c711>:5: DataConversionWarning: A column-vector y was passed when a 1d array was expected. Please change the shape of y to (n_samples,), for example using ravel().\n",
      "  model.fit(X_train[:m],y_train[:m])\n",
      "<ipython-input-305-a7d852f7c711>:5: DataConversionWarning: A column-vector y was passed when a 1d array was expected. Please change the shape of y to (n_samples,), for example using ravel().\n",
      "  model.fit(X_train[:m],y_train[:m])\n",
      "<ipython-input-305-a7d852f7c711>:5: DataConversionWarning: A column-vector y was passed when a 1d array was expected. Please change the shape of y to (n_samples,), for example using ravel().\n",
      "  model.fit(X_train[:m],y_train[:m])\n",
      "<ipython-input-305-a7d852f7c711>:5: DataConversionWarning: A column-vector y was passed when a 1d array was expected. Please change the shape of y to (n_samples,), for example using ravel().\n",
      "  model.fit(X_train[:m],y_train[:m])\n",
      "<ipython-input-305-a7d852f7c711>:5: DataConversionWarning: A column-vector y was passed when a 1d array was expected. Please change the shape of y to (n_samples,), for example using ravel().\n",
      "  model.fit(X_train[:m],y_train[:m])\n",
      "<ipython-input-305-a7d852f7c711>:5: DataConversionWarning: A column-vector y was passed when a 1d array was expected. Please change the shape of y to (n_samples,), for example using ravel().\n",
      "  model.fit(X_train[:m],y_train[:m])\n",
      "<ipython-input-305-a7d852f7c711>:5: DataConversionWarning: A column-vector y was passed when a 1d array was expected. Please change the shape of y to (n_samples,), for example using ravel().\n",
      "  model.fit(X_train[:m],y_train[:m])\n",
      "<ipython-input-305-a7d852f7c711>:5: DataConversionWarning: A column-vector y was passed when a 1d array was expected. Please change the shape of y to (n_samples,), for example using ravel().\n",
      "  model.fit(X_train[:m],y_train[:m])\n",
      "<ipython-input-305-a7d852f7c711>:5: DataConversionWarning: A column-vector y was passed when a 1d array was expected. Please change the shape of y to (n_samples,), for example using ravel().\n",
      "  model.fit(X_train[:m],y_train[:m])\n",
      "<ipython-input-305-a7d852f7c711>:5: DataConversionWarning: A column-vector y was passed when a 1d array was expected. Please change the shape of y to (n_samples,), for example using ravel().\n",
      "  model.fit(X_train[:m],y_train[:m])\n",
      "<ipython-input-305-a7d852f7c711>:5: DataConversionWarning: A column-vector y was passed when a 1d array was expected. Please change the shape of y to (n_samples,), for example using ravel().\n",
      "  model.fit(X_train[:m],y_train[:m])\n",
      "<ipython-input-305-a7d852f7c711>:5: DataConversionWarning: A column-vector y was passed when a 1d array was expected. Please change the shape of y to (n_samples,), for example using ravel().\n",
      "  model.fit(X_train[:m],y_train[:m])\n",
      "<ipython-input-305-a7d852f7c711>:5: DataConversionWarning: A column-vector y was passed when a 1d array was expected. Please change the shape of y to (n_samples,), for example using ravel().\n",
      "  model.fit(X_train[:m],y_train[:m])\n",
      "<ipython-input-305-a7d852f7c711>:5: DataConversionWarning: A column-vector y was passed when a 1d array was expected. Please change the shape of y to (n_samples,), for example using ravel().\n",
      "  model.fit(X_train[:m],y_train[:m])\n",
      "<ipython-input-305-a7d852f7c711>:5: DataConversionWarning: A column-vector y was passed when a 1d array was expected. Please change the shape of y to (n_samples,), for example using ravel().\n",
      "  model.fit(X_train[:m],y_train[:m])\n",
      "<ipython-input-305-a7d852f7c711>:5: DataConversionWarning: A column-vector y was passed when a 1d array was expected. Please change the shape of y to (n_samples,), for example using ravel().\n",
      "  model.fit(X_train[:m],y_train[:m])\n",
      "<ipython-input-305-a7d852f7c711>:5: DataConversionWarning: A column-vector y was passed when a 1d array was expected. Please change the shape of y to (n_samples,), for example using ravel().\n",
      "  model.fit(X_train[:m],y_train[:m])\n",
      "<ipython-input-305-a7d852f7c711>:5: DataConversionWarning: A column-vector y was passed when a 1d array was expected. Please change the shape of y to (n_samples,), for example using ravel().\n",
      "  model.fit(X_train[:m],y_train[:m])\n",
      "<ipython-input-305-a7d852f7c711>:5: DataConversionWarning: A column-vector y was passed when a 1d array was expected. Please change the shape of y to (n_samples,), for example using ravel().\n",
      "  model.fit(X_train[:m],y_train[:m])\n",
      "<ipython-input-305-a7d852f7c711>:5: DataConversionWarning: A column-vector y was passed when a 1d array was expected. Please change the shape of y to (n_samples,), for example using ravel().\n",
      "  model.fit(X_train[:m],y_train[:m])\n",
      "<ipython-input-305-a7d852f7c711>:5: DataConversionWarning: A column-vector y was passed when a 1d array was expected. Please change the shape of y to (n_samples,), for example using ravel().\n",
      "  model.fit(X_train[:m],y_train[:m])\n",
      "<ipython-input-305-a7d852f7c711>:5: DataConversionWarning: A column-vector y was passed when a 1d array was expected. Please change the shape of y to (n_samples,), for example using ravel().\n",
      "  model.fit(X_train[:m],y_train[:m])\n",
      "<ipython-input-305-a7d852f7c711>:5: DataConversionWarning: A column-vector y was passed when a 1d array was expected. Please change the shape of y to (n_samples,), for example using ravel().\n",
      "  model.fit(X_train[:m],y_train[:m])\n",
      "<ipython-input-305-a7d852f7c711>:5: DataConversionWarning: A column-vector y was passed when a 1d array was expected. Please change the shape of y to (n_samples,), for example using ravel().\n",
      "  model.fit(X_train[:m],y_train[:m])\n",
      "<ipython-input-305-a7d852f7c711>:5: DataConversionWarning: A column-vector y was passed when a 1d array was expected. Please change the shape of y to (n_samples,), for example using ravel().\n",
      "  model.fit(X_train[:m],y_train[:m])\n",
      "<ipython-input-305-a7d852f7c711>:5: DataConversionWarning: A column-vector y was passed when a 1d array was expected. Please change the shape of y to (n_samples,), for example using ravel().\n",
      "  model.fit(X_train[:m],y_train[:m])\n",
      "<ipython-input-305-a7d852f7c711>:5: DataConversionWarning: A column-vector y was passed when a 1d array was expected. Please change the shape of y to (n_samples,), for example using ravel().\n",
      "  model.fit(X_train[:m],y_train[:m])\n",
      "<ipython-input-305-a7d852f7c711>:5: DataConversionWarning: A column-vector y was passed when a 1d array was expected. Please change the shape of y to (n_samples,), for example using ravel().\n",
      "  model.fit(X_train[:m],y_train[:m])\n",
      "<ipython-input-305-a7d852f7c711>:5: DataConversionWarning: A column-vector y was passed when a 1d array was expected. Please change the shape of y to (n_samples,), for example using ravel().\n",
      "  model.fit(X_train[:m],y_train[:m])\n",
      "<ipython-input-305-a7d852f7c711>:5: DataConversionWarning: A column-vector y was passed when a 1d array was expected. Please change the shape of y to (n_samples,), for example using ravel().\n",
      "  model.fit(X_train[:m],y_train[:m])\n",
      "<ipython-input-305-a7d852f7c711>:5: DataConversionWarning: A column-vector y was passed when a 1d array was expected. Please change the shape of y to (n_samples,), for example using ravel().\n",
      "  model.fit(X_train[:m],y_train[:m])\n",
      "<ipython-input-305-a7d852f7c711>:5: DataConversionWarning: A column-vector y was passed when a 1d array was expected. Please change the shape of y to (n_samples,), for example using ravel().\n",
      "  model.fit(X_train[:m],y_train[:m])\n",
      "<ipython-input-305-a7d852f7c711>:5: DataConversionWarning: A column-vector y was passed when a 1d array was expected. Please change the shape of y to (n_samples,), for example using ravel().\n",
      "  model.fit(X_train[:m],y_train[:m])\n",
      "<ipython-input-305-a7d852f7c711>:5: DataConversionWarning: A column-vector y was passed when a 1d array was expected. Please change the shape of y to (n_samples,), for example using ravel().\n",
      "  model.fit(X_train[:m],y_train[:m])\n",
      "<ipython-input-305-a7d852f7c711>:5: DataConversionWarning: A column-vector y was passed when a 1d array was expected. Please change the shape of y to (n_samples,), for example using ravel().\n",
      "  model.fit(X_train[:m],y_train[:m])\n",
      "<ipython-input-305-a7d852f7c711>:5: DataConversionWarning: A column-vector y was passed when a 1d array was expected. Please change the shape of y to (n_samples,), for example using ravel().\n",
      "  model.fit(X_train[:m],y_train[:m])\n",
      "<ipython-input-305-a7d852f7c711>:5: DataConversionWarning: A column-vector y was passed when a 1d array was expected. Please change the shape of y to (n_samples,), for example using ravel().\n",
      "  model.fit(X_train[:m],y_train[:m])\n",
      "<ipython-input-305-a7d852f7c711>:5: DataConversionWarning: A column-vector y was passed when a 1d array was expected. Please change the shape of y to (n_samples,), for example using ravel().\n",
      "  model.fit(X_train[:m],y_train[:m])\n",
      "<ipython-input-305-a7d852f7c711>:5: DataConversionWarning: A column-vector y was passed when a 1d array was expected. Please change the shape of y to (n_samples,), for example using ravel().\n",
      "  model.fit(X_train[:m],y_train[:m])\n"
     ]
    },
    {
     "name": "stderr",
     "output_type": "stream",
     "text": [
      "<ipython-input-305-a7d852f7c711>:5: DataConversionWarning: A column-vector y was passed when a 1d array was expected. Please change the shape of y to (n_samples,), for example using ravel().\n",
      "  model.fit(X_train[:m],y_train[:m])\n",
      "<ipython-input-305-a7d852f7c711>:5: DataConversionWarning: A column-vector y was passed when a 1d array was expected. Please change the shape of y to (n_samples,), for example using ravel().\n",
      "  model.fit(X_train[:m],y_train[:m])\n",
      "<ipython-input-305-a7d852f7c711>:5: DataConversionWarning: A column-vector y was passed when a 1d array was expected. Please change the shape of y to (n_samples,), for example using ravel().\n",
      "  model.fit(X_train[:m],y_train[:m])\n",
      "<ipython-input-305-a7d852f7c711>:5: DataConversionWarning: A column-vector y was passed when a 1d array was expected. Please change the shape of y to (n_samples,), for example using ravel().\n",
      "  model.fit(X_train[:m],y_train[:m])\n",
      "<ipython-input-305-a7d852f7c711>:5: DataConversionWarning: A column-vector y was passed when a 1d array was expected. Please change the shape of y to (n_samples,), for example using ravel().\n",
      "  model.fit(X_train[:m],y_train[:m])\n",
      "<ipython-input-305-a7d852f7c711>:5: DataConversionWarning: A column-vector y was passed when a 1d array was expected. Please change the shape of y to (n_samples,), for example using ravel().\n",
      "  model.fit(X_train[:m],y_train[:m])\n",
      "<ipython-input-305-a7d852f7c711>:5: DataConversionWarning: A column-vector y was passed when a 1d array was expected. Please change the shape of y to (n_samples,), for example using ravel().\n",
      "  model.fit(X_train[:m],y_train[:m])\n",
      "<ipython-input-305-a7d852f7c711>:5: DataConversionWarning: A column-vector y was passed when a 1d array was expected. Please change the shape of y to (n_samples,), for example using ravel().\n",
      "  model.fit(X_train[:m],y_train[:m])\n",
      "<ipython-input-305-a7d852f7c711>:5: DataConversionWarning: A column-vector y was passed when a 1d array was expected. Please change the shape of y to (n_samples,), for example using ravel().\n",
      "  model.fit(X_train[:m],y_train[:m])\n",
      "<ipython-input-305-a7d852f7c711>:5: DataConversionWarning: A column-vector y was passed when a 1d array was expected. Please change the shape of y to (n_samples,), for example using ravel().\n",
      "  model.fit(X_train[:m],y_train[:m])\n",
      "<ipython-input-305-a7d852f7c711>:5: DataConversionWarning: A column-vector y was passed when a 1d array was expected. Please change the shape of y to (n_samples,), for example using ravel().\n",
      "  model.fit(X_train[:m],y_train[:m])\n",
      "<ipython-input-305-a7d852f7c711>:5: DataConversionWarning: A column-vector y was passed when a 1d array was expected. Please change the shape of y to (n_samples,), for example using ravel().\n",
      "  model.fit(X_train[:m],y_train[:m])\n",
      "<ipython-input-305-a7d852f7c711>:5: DataConversionWarning: A column-vector y was passed when a 1d array was expected. Please change the shape of y to (n_samples,), for example using ravel().\n",
      "  model.fit(X_train[:m],y_train[:m])\n",
      "<ipython-input-305-a7d852f7c711>:5: DataConversionWarning: A column-vector y was passed when a 1d array was expected. Please change the shape of y to (n_samples,), for example using ravel().\n",
      "  model.fit(X_train[:m],y_train[:m])\n",
      "<ipython-input-305-a7d852f7c711>:5: DataConversionWarning: A column-vector y was passed when a 1d array was expected. Please change the shape of y to (n_samples,), for example using ravel().\n",
      "  model.fit(X_train[:m],y_train[:m])\n",
      "<ipython-input-305-a7d852f7c711>:5: DataConversionWarning: A column-vector y was passed when a 1d array was expected. Please change the shape of y to (n_samples,), for example using ravel().\n",
      "  model.fit(X_train[:m],y_train[:m])\n",
      "<ipython-input-305-a7d852f7c711>:5: DataConversionWarning: A column-vector y was passed when a 1d array was expected. Please change the shape of y to (n_samples,), for example using ravel().\n",
      "  model.fit(X_train[:m],y_train[:m])\n",
      "<ipython-input-305-a7d852f7c711>:5: DataConversionWarning: A column-vector y was passed when a 1d array was expected. Please change the shape of y to (n_samples,), for example using ravel().\n",
      "  model.fit(X_train[:m],y_train[:m])\n",
      "<ipython-input-305-a7d852f7c711>:5: DataConversionWarning: A column-vector y was passed when a 1d array was expected. Please change the shape of y to (n_samples,), for example using ravel().\n",
      "  model.fit(X_train[:m],y_train[:m])\n",
      "<ipython-input-305-a7d852f7c711>:5: DataConversionWarning: A column-vector y was passed when a 1d array was expected. Please change the shape of y to (n_samples,), for example using ravel().\n",
      "  model.fit(X_train[:m],y_train[:m])\n",
      "<ipython-input-305-a7d852f7c711>:5: DataConversionWarning: A column-vector y was passed when a 1d array was expected. Please change the shape of y to (n_samples,), for example using ravel().\n",
      "  model.fit(X_train[:m],y_train[:m])\n",
      "<ipython-input-305-a7d852f7c711>:5: DataConversionWarning: A column-vector y was passed when a 1d array was expected. Please change the shape of y to (n_samples,), for example using ravel().\n",
      "  model.fit(X_train[:m],y_train[:m])\n",
      "<ipython-input-305-a7d852f7c711>:5: DataConversionWarning: A column-vector y was passed when a 1d array was expected. Please change the shape of y to (n_samples,), for example using ravel().\n",
      "  model.fit(X_train[:m],y_train[:m])\n",
      "<ipython-input-305-a7d852f7c711>:5: DataConversionWarning: A column-vector y was passed when a 1d array was expected. Please change the shape of y to (n_samples,), for example using ravel().\n",
      "  model.fit(X_train[:m],y_train[:m])\n",
      "<ipython-input-305-a7d852f7c711>:5: DataConversionWarning: A column-vector y was passed when a 1d array was expected. Please change the shape of y to (n_samples,), for example using ravel().\n",
      "  model.fit(X_train[:m],y_train[:m])\n",
      "<ipython-input-305-a7d852f7c711>:5: DataConversionWarning: A column-vector y was passed when a 1d array was expected. Please change the shape of y to (n_samples,), for example using ravel().\n",
      "  model.fit(X_train[:m],y_train[:m])\n",
      "<ipython-input-305-a7d852f7c711>:5: DataConversionWarning: A column-vector y was passed when a 1d array was expected. Please change the shape of y to (n_samples,), for example using ravel().\n",
      "  model.fit(X_train[:m],y_train[:m])\n",
      "<ipython-input-305-a7d852f7c711>:5: DataConversionWarning: A column-vector y was passed when a 1d array was expected. Please change the shape of y to (n_samples,), for example using ravel().\n",
      "  model.fit(X_train[:m],y_train[:m])\n",
      "<ipython-input-305-a7d852f7c711>:5: DataConversionWarning: A column-vector y was passed when a 1d array was expected. Please change the shape of y to (n_samples,), for example using ravel().\n",
      "  model.fit(X_train[:m],y_train[:m])\n",
      "<ipython-input-305-a7d852f7c711>:5: DataConversionWarning: A column-vector y was passed when a 1d array was expected. Please change the shape of y to (n_samples,), for example using ravel().\n",
      "  model.fit(X_train[:m],y_train[:m])\n",
      "<ipython-input-305-a7d852f7c711>:5: DataConversionWarning: A column-vector y was passed when a 1d array was expected. Please change the shape of y to (n_samples,), for example using ravel().\n",
      "  model.fit(X_train[:m],y_train[:m])\n",
      "<ipython-input-305-a7d852f7c711>:5: DataConversionWarning: A column-vector y was passed when a 1d array was expected. Please change the shape of y to (n_samples,), for example using ravel().\n",
      "  model.fit(X_train[:m],y_train[:m])\n",
      "<ipython-input-305-a7d852f7c711>:5: DataConversionWarning: A column-vector y was passed when a 1d array was expected. Please change the shape of y to (n_samples,), for example using ravel().\n",
      "  model.fit(X_train[:m],y_train[:m])\n",
      "<ipython-input-305-a7d852f7c711>:5: DataConversionWarning: A column-vector y was passed when a 1d array was expected. Please change the shape of y to (n_samples,), for example using ravel().\n",
      "  model.fit(X_train[:m],y_train[:m])\n",
      "<ipython-input-305-a7d852f7c711>:5: DataConversionWarning: A column-vector y was passed when a 1d array was expected. Please change the shape of y to (n_samples,), for example using ravel().\n",
      "  model.fit(X_train[:m],y_train[:m])\n",
      "<ipython-input-305-a7d852f7c711>:5: DataConversionWarning: A column-vector y was passed when a 1d array was expected. Please change the shape of y to (n_samples,), for example using ravel().\n",
      "  model.fit(X_train[:m],y_train[:m])\n",
      "<ipython-input-305-a7d852f7c711>:5: DataConversionWarning: A column-vector y was passed when a 1d array was expected. Please change the shape of y to (n_samples,), for example using ravel().\n",
      "  model.fit(X_train[:m],y_train[:m])\n",
      "<ipython-input-305-a7d852f7c711>:5: DataConversionWarning: A column-vector y was passed when a 1d array was expected. Please change the shape of y to (n_samples,), for example using ravel().\n",
      "  model.fit(X_train[:m],y_train[:m])\n",
      "<ipython-input-305-a7d852f7c711>:5: DataConversionWarning: A column-vector y was passed when a 1d array was expected. Please change the shape of y to (n_samples,), for example using ravel().\n",
      "  model.fit(X_train[:m],y_train[:m])\n"
     ]
    },
    {
     "name": "stderr",
     "output_type": "stream",
     "text": [
      "<ipython-input-305-a7d852f7c711>:5: DataConversionWarning: A column-vector y was passed when a 1d array was expected. Please change the shape of y to (n_samples,), for example using ravel().\n",
      "  model.fit(X_train[:m],y_train[:m])\n",
      "<ipython-input-305-a7d852f7c711>:5: DataConversionWarning: A column-vector y was passed when a 1d array was expected. Please change the shape of y to (n_samples,), for example using ravel().\n",
      "  model.fit(X_train[:m],y_train[:m])\n",
      "<ipython-input-305-a7d852f7c711>:5: DataConversionWarning: A column-vector y was passed when a 1d array was expected. Please change the shape of y to (n_samples,), for example using ravel().\n",
      "  model.fit(X_train[:m],y_train[:m])\n",
      "<ipython-input-305-a7d852f7c711>:5: DataConversionWarning: A column-vector y was passed when a 1d array was expected. Please change the shape of y to (n_samples,), for example using ravel().\n",
      "  model.fit(X_train[:m],y_train[:m])\n",
      "<ipython-input-305-a7d852f7c711>:5: DataConversionWarning: A column-vector y was passed when a 1d array was expected. Please change the shape of y to (n_samples,), for example using ravel().\n",
      "  model.fit(X_train[:m],y_train[:m])\n",
      "<ipython-input-305-a7d852f7c711>:5: DataConversionWarning: A column-vector y was passed when a 1d array was expected. Please change the shape of y to (n_samples,), for example using ravel().\n",
      "  model.fit(X_train[:m],y_train[:m])\n",
      "<ipython-input-305-a7d852f7c711>:5: DataConversionWarning: A column-vector y was passed when a 1d array was expected. Please change the shape of y to (n_samples,), for example using ravel().\n",
      "  model.fit(X_train[:m],y_train[:m])\n",
      "<ipython-input-305-a7d852f7c711>:5: DataConversionWarning: A column-vector y was passed when a 1d array was expected. Please change the shape of y to (n_samples,), for example using ravel().\n",
      "  model.fit(X_train[:m],y_train[:m])\n",
      "<ipython-input-305-a7d852f7c711>:5: DataConversionWarning: A column-vector y was passed when a 1d array was expected. Please change the shape of y to (n_samples,), for example using ravel().\n",
      "  model.fit(X_train[:m],y_train[:m])\n",
      "<ipython-input-305-a7d852f7c711>:5: DataConversionWarning: A column-vector y was passed when a 1d array was expected. Please change the shape of y to (n_samples,), for example using ravel().\n",
      "  model.fit(X_train[:m],y_train[:m])\n",
      "<ipython-input-305-a7d852f7c711>:5: DataConversionWarning: A column-vector y was passed when a 1d array was expected. Please change the shape of y to (n_samples,), for example using ravel().\n",
      "  model.fit(X_train[:m],y_train[:m])\n",
      "<ipython-input-305-a7d852f7c711>:5: DataConversionWarning: A column-vector y was passed when a 1d array was expected. Please change the shape of y to (n_samples,), for example using ravel().\n",
      "  model.fit(X_train[:m],y_train[:m])\n",
      "<ipython-input-305-a7d852f7c711>:5: DataConversionWarning: A column-vector y was passed when a 1d array was expected. Please change the shape of y to (n_samples,), for example using ravel().\n",
      "  model.fit(X_train[:m],y_train[:m])\n",
      "<ipython-input-305-a7d852f7c711>:5: DataConversionWarning: A column-vector y was passed when a 1d array was expected. Please change the shape of y to (n_samples,), for example using ravel().\n",
      "  model.fit(X_train[:m],y_train[:m])\n",
      "<ipython-input-305-a7d852f7c711>:5: DataConversionWarning: A column-vector y was passed when a 1d array was expected. Please change the shape of y to (n_samples,), for example using ravel().\n",
      "  model.fit(X_train[:m],y_train[:m])\n",
      "<ipython-input-305-a7d852f7c711>:5: DataConversionWarning: A column-vector y was passed when a 1d array was expected. Please change the shape of y to (n_samples,), for example using ravel().\n",
      "  model.fit(X_train[:m],y_train[:m])\n",
      "<ipython-input-305-a7d852f7c711>:5: DataConversionWarning: A column-vector y was passed when a 1d array was expected. Please change the shape of y to (n_samples,), for example using ravel().\n",
      "  model.fit(X_train[:m],y_train[:m])\n",
      "<ipython-input-305-a7d852f7c711>:5: DataConversionWarning: A column-vector y was passed when a 1d array was expected. Please change the shape of y to (n_samples,), for example using ravel().\n",
      "  model.fit(X_train[:m],y_train[:m])\n",
      "<ipython-input-305-a7d852f7c711>:5: DataConversionWarning: A column-vector y was passed when a 1d array was expected. Please change the shape of y to (n_samples,), for example using ravel().\n",
      "  model.fit(X_train[:m],y_train[:m])\n",
      "<ipython-input-305-a7d852f7c711>:5: DataConversionWarning: A column-vector y was passed when a 1d array was expected. Please change the shape of y to (n_samples,), for example using ravel().\n",
      "  model.fit(X_train[:m],y_train[:m])\n",
      "<ipython-input-305-a7d852f7c711>:5: DataConversionWarning: A column-vector y was passed when a 1d array was expected. Please change the shape of y to (n_samples,), for example using ravel().\n",
      "  model.fit(X_train[:m],y_train[:m])\n",
      "<ipython-input-305-a7d852f7c711>:5: DataConversionWarning: A column-vector y was passed when a 1d array was expected. Please change the shape of y to (n_samples,), for example using ravel().\n",
      "  model.fit(X_train[:m],y_train[:m])\n",
      "<ipython-input-305-a7d852f7c711>:5: DataConversionWarning: A column-vector y was passed when a 1d array was expected. Please change the shape of y to (n_samples,), for example using ravel().\n",
      "  model.fit(X_train[:m],y_train[:m])\n",
      "<ipython-input-305-a7d852f7c711>:5: DataConversionWarning: A column-vector y was passed when a 1d array was expected. Please change the shape of y to (n_samples,), for example using ravel().\n",
      "  model.fit(X_train[:m],y_train[:m])\n",
      "<ipython-input-305-a7d852f7c711>:5: DataConversionWarning: A column-vector y was passed when a 1d array was expected. Please change the shape of y to (n_samples,), for example using ravel().\n",
      "  model.fit(X_train[:m],y_train[:m])\n",
      "<ipython-input-305-a7d852f7c711>:5: DataConversionWarning: A column-vector y was passed when a 1d array was expected. Please change the shape of y to (n_samples,), for example using ravel().\n",
      "  model.fit(X_train[:m],y_train[:m])\n",
      "<ipython-input-305-a7d852f7c711>:5: DataConversionWarning: A column-vector y was passed when a 1d array was expected. Please change the shape of y to (n_samples,), for example using ravel().\n",
      "  model.fit(X_train[:m],y_train[:m])\n",
      "<ipython-input-305-a7d852f7c711>:5: DataConversionWarning: A column-vector y was passed when a 1d array was expected. Please change the shape of y to (n_samples,), for example using ravel().\n",
      "  model.fit(X_train[:m],y_train[:m])\n",
      "<ipython-input-305-a7d852f7c711>:5: DataConversionWarning: A column-vector y was passed when a 1d array was expected. Please change the shape of y to (n_samples,), for example using ravel().\n",
      "  model.fit(X_train[:m],y_train[:m])\n",
      "<ipython-input-305-a7d852f7c711>:5: DataConversionWarning: A column-vector y was passed when a 1d array was expected. Please change the shape of y to (n_samples,), for example using ravel().\n",
      "  model.fit(X_train[:m],y_train[:m])\n",
      "<ipython-input-305-a7d852f7c711>:5: DataConversionWarning: A column-vector y was passed when a 1d array was expected. Please change the shape of y to (n_samples,), for example using ravel().\n",
      "  model.fit(X_train[:m],y_train[:m])\n",
      "<ipython-input-305-a7d852f7c711>:5: DataConversionWarning: A column-vector y was passed when a 1d array was expected. Please change the shape of y to (n_samples,), for example using ravel().\n",
      "  model.fit(X_train[:m],y_train[:m])\n",
      "<ipython-input-305-a7d852f7c711>:5: DataConversionWarning: A column-vector y was passed when a 1d array was expected. Please change the shape of y to (n_samples,), for example using ravel().\n",
      "  model.fit(X_train[:m],y_train[:m])\n",
      "<ipython-input-305-a7d852f7c711>:5: DataConversionWarning: A column-vector y was passed when a 1d array was expected. Please change the shape of y to (n_samples,), for example using ravel().\n",
      "  model.fit(X_train[:m],y_train[:m])\n",
      "<ipython-input-305-a7d852f7c711>:5: DataConversionWarning: A column-vector y was passed when a 1d array was expected. Please change the shape of y to (n_samples,), for example using ravel().\n",
      "  model.fit(X_train[:m],y_train[:m])\n",
      "<ipython-input-305-a7d852f7c711>:5: DataConversionWarning: A column-vector y was passed when a 1d array was expected. Please change the shape of y to (n_samples,), for example using ravel().\n",
      "  model.fit(X_train[:m],y_train[:m])\n",
      "<ipython-input-305-a7d852f7c711>:5: DataConversionWarning: A column-vector y was passed when a 1d array was expected. Please change the shape of y to (n_samples,), for example using ravel().\n",
      "  model.fit(X_train[:m],y_train[:m])\n",
      "<ipython-input-305-a7d852f7c711>:5: DataConversionWarning: A column-vector y was passed when a 1d array was expected. Please change the shape of y to (n_samples,), for example using ravel().\n",
      "  model.fit(X_train[:m],y_train[:m])\n",
      "<ipython-input-305-a7d852f7c711>:5: DataConversionWarning: A column-vector y was passed when a 1d array was expected. Please change the shape of y to (n_samples,), for example using ravel().\n",
      "  model.fit(X_train[:m],y_train[:m])\n",
      "<ipython-input-305-a7d852f7c711>:5: DataConversionWarning: A column-vector y was passed when a 1d array was expected. Please change the shape of y to (n_samples,), for example using ravel().\n",
      "  model.fit(X_train[:m],y_train[:m])\n",
      "<ipython-input-305-a7d852f7c711>:5: DataConversionWarning: A column-vector y was passed when a 1d array was expected. Please change the shape of y to (n_samples,), for example using ravel().\n",
      "  model.fit(X_train[:m],y_train[:m])\n",
      "<ipython-input-305-a7d852f7c711>:5: DataConversionWarning: A column-vector y was passed when a 1d array was expected. Please change the shape of y to (n_samples,), for example using ravel().\n",
      "  model.fit(X_train[:m],y_train[:m])\n"
     ]
    },
    {
     "name": "stderr",
     "output_type": "stream",
     "text": [
      "<ipython-input-305-a7d852f7c711>:5: DataConversionWarning: A column-vector y was passed when a 1d array was expected. Please change the shape of y to (n_samples,), for example using ravel().\n",
      "  model.fit(X_train[:m],y_train[:m])\n",
      "<ipython-input-305-a7d852f7c711>:5: DataConversionWarning: A column-vector y was passed when a 1d array was expected. Please change the shape of y to (n_samples,), for example using ravel().\n",
      "  model.fit(X_train[:m],y_train[:m])\n",
      "<ipython-input-305-a7d852f7c711>:5: DataConversionWarning: A column-vector y was passed when a 1d array was expected. Please change the shape of y to (n_samples,), for example using ravel().\n",
      "  model.fit(X_train[:m],y_train[:m])\n",
      "<ipython-input-305-a7d852f7c711>:5: DataConversionWarning: A column-vector y was passed when a 1d array was expected. Please change the shape of y to (n_samples,), for example using ravel().\n",
      "  model.fit(X_train[:m],y_train[:m])\n",
      "<ipython-input-305-a7d852f7c711>:5: DataConversionWarning: A column-vector y was passed when a 1d array was expected. Please change the shape of y to (n_samples,), for example using ravel().\n",
      "  model.fit(X_train[:m],y_train[:m])\n",
      "<ipython-input-305-a7d852f7c711>:5: DataConversionWarning: A column-vector y was passed when a 1d array was expected. Please change the shape of y to (n_samples,), for example using ravel().\n",
      "  model.fit(X_train[:m],y_train[:m])\n",
      "<ipython-input-305-a7d852f7c711>:5: DataConversionWarning: A column-vector y was passed when a 1d array was expected. Please change the shape of y to (n_samples,), for example using ravel().\n",
      "  model.fit(X_train[:m],y_train[:m])\n",
      "<ipython-input-305-a7d852f7c711>:5: DataConversionWarning: A column-vector y was passed when a 1d array was expected. Please change the shape of y to (n_samples,), for example using ravel().\n",
      "  model.fit(X_train[:m],y_train[:m])\n",
      "<ipython-input-305-a7d852f7c711>:5: DataConversionWarning: A column-vector y was passed when a 1d array was expected. Please change the shape of y to (n_samples,), for example using ravel().\n",
      "  model.fit(X_train[:m],y_train[:m])\n",
      "<ipython-input-305-a7d852f7c711>:5: DataConversionWarning: A column-vector y was passed when a 1d array was expected. Please change the shape of y to (n_samples,), for example using ravel().\n",
      "  model.fit(X_train[:m],y_train[:m])\n",
      "<ipython-input-305-a7d852f7c711>:5: DataConversionWarning: A column-vector y was passed when a 1d array was expected. Please change the shape of y to (n_samples,), for example using ravel().\n",
      "  model.fit(X_train[:m],y_train[:m])\n",
      "<ipython-input-305-a7d852f7c711>:5: DataConversionWarning: A column-vector y was passed when a 1d array was expected. Please change the shape of y to (n_samples,), for example using ravel().\n",
      "  model.fit(X_train[:m],y_train[:m])\n",
      "<ipython-input-305-a7d852f7c711>:5: DataConversionWarning: A column-vector y was passed when a 1d array was expected. Please change the shape of y to (n_samples,), for example using ravel().\n",
      "  model.fit(X_train[:m],y_train[:m])\n",
      "<ipython-input-305-a7d852f7c711>:5: DataConversionWarning: A column-vector y was passed when a 1d array was expected. Please change the shape of y to (n_samples,), for example using ravel().\n",
      "  model.fit(X_train[:m],y_train[:m])\n",
      "<ipython-input-305-a7d852f7c711>:5: DataConversionWarning: A column-vector y was passed when a 1d array was expected. Please change the shape of y to (n_samples,), for example using ravel().\n",
      "  model.fit(X_train[:m],y_train[:m])\n",
      "<ipython-input-305-a7d852f7c711>:5: DataConversionWarning: A column-vector y was passed when a 1d array was expected. Please change the shape of y to (n_samples,), for example using ravel().\n",
      "  model.fit(X_train[:m],y_train[:m])\n",
      "<ipython-input-305-a7d852f7c711>:5: DataConversionWarning: A column-vector y was passed when a 1d array was expected. Please change the shape of y to (n_samples,), for example using ravel().\n",
      "  model.fit(X_train[:m],y_train[:m])\n",
      "<ipython-input-305-a7d852f7c711>:5: DataConversionWarning: A column-vector y was passed when a 1d array was expected. Please change the shape of y to (n_samples,), for example using ravel().\n",
      "  model.fit(X_train[:m],y_train[:m])\n",
      "<ipython-input-305-a7d852f7c711>:5: DataConversionWarning: A column-vector y was passed when a 1d array was expected. Please change the shape of y to (n_samples,), for example using ravel().\n",
      "  model.fit(X_train[:m],y_train[:m])\n",
      "<ipython-input-305-a7d852f7c711>:5: DataConversionWarning: A column-vector y was passed when a 1d array was expected. Please change the shape of y to (n_samples,), for example using ravel().\n",
      "  model.fit(X_train[:m],y_train[:m])\n",
      "<ipython-input-305-a7d852f7c711>:5: DataConversionWarning: A column-vector y was passed when a 1d array was expected. Please change the shape of y to (n_samples,), for example using ravel().\n",
      "  model.fit(X_train[:m],y_train[:m])\n",
      "<ipython-input-305-a7d852f7c711>:5: DataConversionWarning: A column-vector y was passed when a 1d array was expected. Please change the shape of y to (n_samples,), for example using ravel().\n",
      "  model.fit(X_train[:m],y_train[:m])\n",
      "<ipython-input-305-a7d852f7c711>:5: DataConversionWarning: A column-vector y was passed when a 1d array was expected. Please change the shape of y to (n_samples,), for example using ravel().\n",
      "  model.fit(X_train[:m],y_train[:m])\n",
      "<ipython-input-305-a7d852f7c711>:5: DataConversionWarning: A column-vector y was passed when a 1d array was expected. Please change the shape of y to (n_samples,), for example using ravel().\n",
      "  model.fit(X_train[:m],y_train[:m])\n",
      "<ipython-input-305-a7d852f7c711>:5: DataConversionWarning: A column-vector y was passed when a 1d array was expected. Please change the shape of y to (n_samples,), for example using ravel().\n",
      "  model.fit(X_train[:m],y_train[:m])\n",
      "<ipython-input-305-a7d852f7c711>:5: DataConversionWarning: A column-vector y was passed when a 1d array was expected. Please change the shape of y to (n_samples,), for example using ravel().\n",
      "  model.fit(X_train[:m],y_train[:m])\n",
      "<ipython-input-305-a7d852f7c711>:5: DataConversionWarning: A column-vector y was passed when a 1d array was expected. Please change the shape of y to (n_samples,), for example using ravel().\n",
      "  model.fit(X_train[:m],y_train[:m])\n",
      "<ipython-input-305-a7d852f7c711>:5: DataConversionWarning: A column-vector y was passed when a 1d array was expected. Please change the shape of y to (n_samples,), for example using ravel().\n",
      "  model.fit(X_train[:m],y_train[:m])\n",
      "<ipython-input-305-a7d852f7c711>:5: DataConversionWarning: A column-vector y was passed when a 1d array was expected. Please change the shape of y to (n_samples,), for example using ravel().\n",
      "  model.fit(X_train[:m],y_train[:m])\n",
      "<ipython-input-305-a7d852f7c711>:5: DataConversionWarning: A column-vector y was passed when a 1d array was expected. Please change the shape of y to (n_samples,), for example using ravel().\n",
      "  model.fit(X_train[:m],y_train[:m])\n",
      "<ipython-input-305-a7d852f7c711>:5: DataConversionWarning: A column-vector y was passed when a 1d array was expected. Please change the shape of y to (n_samples,), for example using ravel().\n",
      "  model.fit(X_train[:m],y_train[:m])\n",
      "<ipython-input-305-a7d852f7c711>:5: DataConversionWarning: A column-vector y was passed when a 1d array was expected. Please change the shape of y to (n_samples,), for example using ravel().\n",
      "  model.fit(X_train[:m],y_train[:m])\n",
      "<ipython-input-305-a7d852f7c711>:5: DataConversionWarning: A column-vector y was passed when a 1d array was expected. Please change the shape of y to (n_samples,), for example using ravel().\n",
      "  model.fit(X_train[:m],y_train[:m])\n",
      "<ipython-input-305-a7d852f7c711>:5: DataConversionWarning: A column-vector y was passed when a 1d array was expected. Please change the shape of y to (n_samples,), for example using ravel().\n",
      "  model.fit(X_train[:m],y_train[:m])\n",
      "<ipython-input-305-a7d852f7c711>:5: DataConversionWarning: A column-vector y was passed when a 1d array was expected. Please change the shape of y to (n_samples,), for example using ravel().\n",
      "  model.fit(X_train[:m],y_train[:m])\n",
      "<ipython-input-305-a7d852f7c711>:5: DataConversionWarning: A column-vector y was passed when a 1d array was expected. Please change the shape of y to (n_samples,), for example using ravel().\n",
      "  model.fit(X_train[:m],y_train[:m])\n",
      "<ipython-input-305-a7d852f7c711>:5: DataConversionWarning: A column-vector y was passed when a 1d array was expected. Please change the shape of y to (n_samples,), for example using ravel().\n",
      "  model.fit(X_train[:m],y_train[:m])\n",
      "<ipython-input-305-a7d852f7c711>:5: DataConversionWarning: A column-vector y was passed when a 1d array was expected. Please change the shape of y to (n_samples,), for example using ravel().\n",
      "  model.fit(X_train[:m],y_train[:m])\n",
      "<ipython-input-305-a7d852f7c711>:5: DataConversionWarning: A column-vector y was passed when a 1d array was expected. Please change the shape of y to (n_samples,), for example using ravel().\n",
      "  model.fit(X_train[:m],y_train[:m])\n",
      "<ipython-input-305-a7d852f7c711>:5: DataConversionWarning: A column-vector y was passed when a 1d array was expected. Please change the shape of y to (n_samples,), for example using ravel().\n",
      "  model.fit(X_train[:m],y_train[:m])\n",
      "<ipython-input-305-a7d852f7c711>:5: DataConversionWarning: A column-vector y was passed when a 1d array was expected. Please change the shape of y to (n_samples,), for example using ravel().\n",
      "  model.fit(X_train[:m],y_train[:m])\n",
      "<ipython-input-305-a7d852f7c711>:5: DataConversionWarning: A column-vector y was passed when a 1d array was expected. Please change the shape of y to (n_samples,), for example using ravel().\n",
      "  model.fit(X_train[:m],y_train[:m])\n"
     ]
    },
    {
     "name": "stderr",
     "output_type": "stream",
     "text": [
      "<ipython-input-305-a7d852f7c711>:5: DataConversionWarning: A column-vector y was passed when a 1d array was expected. Please change the shape of y to (n_samples,), for example using ravel().\n",
      "  model.fit(X_train[:m],y_train[:m])\n",
      "<ipython-input-305-a7d852f7c711>:5: DataConversionWarning: A column-vector y was passed when a 1d array was expected. Please change the shape of y to (n_samples,), for example using ravel().\n",
      "  model.fit(X_train[:m],y_train[:m])\n",
      "<ipython-input-305-a7d852f7c711>:5: DataConversionWarning: A column-vector y was passed when a 1d array was expected. Please change the shape of y to (n_samples,), for example using ravel().\n",
      "  model.fit(X_train[:m],y_train[:m])\n",
      "<ipython-input-305-a7d852f7c711>:5: DataConversionWarning: A column-vector y was passed when a 1d array was expected. Please change the shape of y to (n_samples,), for example using ravel().\n",
      "  model.fit(X_train[:m],y_train[:m])\n",
      "<ipython-input-305-a7d852f7c711>:5: DataConversionWarning: A column-vector y was passed when a 1d array was expected. Please change the shape of y to (n_samples,), for example using ravel().\n",
      "  model.fit(X_train[:m],y_train[:m])\n",
      "<ipython-input-305-a7d852f7c711>:5: DataConversionWarning: A column-vector y was passed when a 1d array was expected. Please change the shape of y to (n_samples,), for example using ravel().\n",
      "  model.fit(X_train[:m],y_train[:m])\n",
      "<ipython-input-305-a7d852f7c711>:5: DataConversionWarning: A column-vector y was passed when a 1d array was expected. Please change the shape of y to (n_samples,), for example using ravel().\n",
      "  model.fit(X_train[:m],y_train[:m])\n",
      "<ipython-input-305-a7d852f7c711>:5: DataConversionWarning: A column-vector y was passed when a 1d array was expected. Please change the shape of y to (n_samples,), for example using ravel().\n",
      "  model.fit(X_train[:m],y_train[:m])\n",
      "<ipython-input-305-a7d852f7c711>:5: DataConversionWarning: A column-vector y was passed when a 1d array was expected. Please change the shape of y to (n_samples,), for example using ravel().\n",
      "  model.fit(X_train[:m],y_train[:m])\n",
      "<ipython-input-305-a7d852f7c711>:5: DataConversionWarning: A column-vector y was passed when a 1d array was expected. Please change the shape of y to (n_samples,), for example using ravel().\n",
      "  model.fit(X_train[:m],y_train[:m])\n",
      "<ipython-input-305-a7d852f7c711>:5: DataConversionWarning: A column-vector y was passed when a 1d array was expected. Please change the shape of y to (n_samples,), for example using ravel().\n",
      "  model.fit(X_train[:m],y_train[:m])\n",
      "<ipython-input-305-a7d852f7c711>:5: DataConversionWarning: A column-vector y was passed when a 1d array was expected. Please change the shape of y to (n_samples,), for example using ravel().\n",
      "  model.fit(X_train[:m],y_train[:m])\n",
      "<ipython-input-305-a7d852f7c711>:5: DataConversionWarning: A column-vector y was passed when a 1d array was expected. Please change the shape of y to (n_samples,), for example using ravel().\n",
      "  model.fit(X_train[:m],y_train[:m])\n",
      "<ipython-input-305-a7d852f7c711>:5: DataConversionWarning: A column-vector y was passed when a 1d array was expected. Please change the shape of y to (n_samples,), for example using ravel().\n",
      "  model.fit(X_train[:m],y_train[:m])\n",
      "<ipython-input-305-a7d852f7c711>:5: DataConversionWarning: A column-vector y was passed when a 1d array was expected. Please change the shape of y to (n_samples,), for example using ravel().\n",
      "  model.fit(X_train[:m],y_train[:m])\n",
      "<ipython-input-305-a7d852f7c711>:5: DataConversionWarning: A column-vector y was passed when a 1d array was expected. Please change the shape of y to (n_samples,), for example using ravel().\n",
      "  model.fit(X_train[:m],y_train[:m])\n",
      "<ipython-input-305-a7d852f7c711>:5: DataConversionWarning: A column-vector y was passed when a 1d array was expected. Please change the shape of y to (n_samples,), for example using ravel().\n",
      "  model.fit(X_train[:m],y_train[:m])\n",
      "<ipython-input-305-a7d852f7c711>:5: DataConversionWarning: A column-vector y was passed when a 1d array was expected. Please change the shape of y to (n_samples,), for example using ravel().\n",
      "  model.fit(X_train[:m],y_train[:m])\n",
      "<ipython-input-305-a7d852f7c711>:5: DataConversionWarning: A column-vector y was passed when a 1d array was expected. Please change the shape of y to (n_samples,), for example using ravel().\n",
      "  model.fit(X_train[:m],y_train[:m])\n",
      "<ipython-input-305-a7d852f7c711>:5: DataConversionWarning: A column-vector y was passed when a 1d array was expected. Please change the shape of y to (n_samples,), for example using ravel().\n",
      "  model.fit(X_train[:m],y_train[:m])\n",
      "<ipython-input-305-a7d852f7c711>:5: DataConversionWarning: A column-vector y was passed when a 1d array was expected. Please change the shape of y to (n_samples,), for example using ravel().\n",
      "  model.fit(X_train[:m],y_train[:m])\n",
      "<ipython-input-305-a7d852f7c711>:5: DataConversionWarning: A column-vector y was passed when a 1d array was expected. Please change the shape of y to (n_samples,), for example using ravel().\n",
      "  model.fit(X_train[:m],y_train[:m])\n",
      "<ipython-input-305-a7d852f7c711>:5: DataConversionWarning: A column-vector y was passed when a 1d array was expected. Please change the shape of y to (n_samples,), for example using ravel().\n",
      "  model.fit(X_train[:m],y_train[:m])\n",
      "<ipython-input-305-a7d852f7c711>:5: DataConversionWarning: A column-vector y was passed when a 1d array was expected. Please change the shape of y to (n_samples,), for example using ravel().\n",
      "  model.fit(X_train[:m],y_train[:m])\n",
      "<ipython-input-305-a7d852f7c711>:5: DataConversionWarning: A column-vector y was passed when a 1d array was expected. Please change the shape of y to (n_samples,), for example using ravel().\n",
      "  model.fit(X_train[:m],y_train[:m])\n",
      "<ipython-input-305-a7d852f7c711>:5: DataConversionWarning: A column-vector y was passed when a 1d array was expected. Please change the shape of y to (n_samples,), for example using ravel().\n",
      "  model.fit(X_train[:m],y_train[:m])\n",
      "<ipython-input-305-a7d852f7c711>:5: DataConversionWarning: A column-vector y was passed when a 1d array was expected. Please change the shape of y to (n_samples,), for example using ravel().\n",
      "  model.fit(X_train[:m],y_train[:m])\n",
      "<ipython-input-305-a7d852f7c711>:5: DataConversionWarning: A column-vector y was passed when a 1d array was expected. Please change the shape of y to (n_samples,), for example using ravel().\n",
      "  model.fit(X_train[:m],y_train[:m])\n",
      "<ipython-input-305-a7d852f7c711>:5: DataConversionWarning: A column-vector y was passed when a 1d array was expected. Please change the shape of y to (n_samples,), for example using ravel().\n",
      "  model.fit(X_train[:m],y_train[:m])\n",
      "<ipython-input-305-a7d852f7c711>:5: DataConversionWarning: A column-vector y was passed when a 1d array was expected. Please change the shape of y to (n_samples,), for example using ravel().\n",
      "  model.fit(X_train[:m],y_train[:m])\n",
      "<ipython-input-305-a7d852f7c711>:5: DataConversionWarning: A column-vector y was passed when a 1d array was expected. Please change the shape of y to (n_samples,), for example using ravel().\n",
      "  model.fit(X_train[:m],y_train[:m])\n",
      "<ipython-input-305-a7d852f7c711>:5: DataConversionWarning: A column-vector y was passed when a 1d array was expected. Please change the shape of y to (n_samples,), for example using ravel().\n",
      "  model.fit(X_train[:m],y_train[:m])\n",
      "<ipython-input-305-a7d852f7c711>:5: DataConversionWarning: A column-vector y was passed when a 1d array was expected. Please change the shape of y to (n_samples,), for example using ravel().\n",
      "  model.fit(X_train[:m],y_train[:m])\n",
      "<ipython-input-305-a7d852f7c711>:5: DataConversionWarning: A column-vector y was passed when a 1d array was expected. Please change the shape of y to (n_samples,), for example using ravel().\n",
      "  model.fit(X_train[:m],y_train[:m])\n",
      "<ipython-input-305-a7d852f7c711>:5: DataConversionWarning: A column-vector y was passed when a 1d array was expected. Please change the shape of y to (n_samples,), for example using ravel().\n",
      "  model.fit(X_train[:m],y_train[:m])\n",
      "<ipython-input-305-a7d852f7c711>:5: DataConversionWarning: A column-vector y was passed when a 1d array was expected. Please change the shape of y to (n_samples,), for example using ravel().\n",
      "  model.fit(X_train[:m],y_train[:m])\n"
     ]
    },
    {
     "name": "stderr",
     "output_type": "stream",
     "text": [
      "<ipython-input-305-a7d852f7c711>:5: DataConversionWarning: A column-vector y was passed when a 1d array was expected. Please change the shape of y to (n_samples,), for example using ravel().\n",
      "  model.fit(X_train[:m],y_train[:m])\n",
      "<ipython-input-305-a7d852f7c711>:5: DataConversionWarning: A column-vector y was passed when a 1d array was expected. Please change the shape of y to (n_samples,), for example using ravel().\n",
      "  model.fit(X_train[:m],y_train[:m])\n",
      "<ipython-input-305-a7d852f7c711>:5: DataConversionWarning: A column-vector y was passed when a 1d array was expected. Please change the shape of y to (n_samples,), for example using ravel().\n",
      "  model.fit(X_train[:m],y_train[:m])\n",
      "<ipython-input-305-a7d852f7c711>:5: DataConversionWarning: A column-vector y was passed when a 1d array was expected. Please change the shape of y to (n_samples,), for example using ravel().\n",
      "  model.fit(X_train[:m],y_train[:m])\n",
      "<ipython-input-305-a7d852f7c711>:5: DataConversionWarning: A column-vector y was passed when a 1d array was expected. Please change the shape of y to (n_samples,), for example using ravel().\n",
      "  model.fit(X_train[:m],y_train[:m])\n",
      "<ipython-input-305-a7d852f7c711>:5: DataConversionWarning: A column-vector y was passed when a 1d array was expected. Please change the shape of y to (n_samples,), for example using ravel().\n",
      "  model.fit(X_train[:m],y_train[:m])\n",
      "<ipython-input-305-a7d852f7c711>:5: DataConversionWarning: A column-vector y was passed when a 1d array was expected. Please change the shape of y to (n_samples,), for example using ravel().\n",
      "  model.fit(X_train[:m],y_train[:m])\n",
      "<ipython-input-305-a7d852f7c711>:5: DataConversionWarning: A column-vector y was passed when a 1d array was expected. Please change the shape of y to (n_samples,), for example using ravel().\n",
      "  model.fit(X_train[:m],y_train[:m])\n"
     ]
    },
    {
     "data": {
      "image/png": "[encoded data removed]",
      "text/plain": [
       "<Figure size 432x288 with 1 Axes>"
      ]
     },
     "metadata": {
      "needs_background": "light"
     },
     "output_type": "display_data"
    }
   ],
   "source": [
    "def learning_plot(model,X,y):\n",
    "    X_train,X_val,y_train,y_val=train_test_split(X,y,test_size=0.3)\n",
    "    train_errors,val_errors=[],[]\n",
    "    for m in range(1,len(X_train)):\n",
    "        model.fit(X_train[:m],y_train[:m])\n",
    "        y_train_predict=model.predict(X_train[:m])\n",
    "        y_val_prdict=model.predict(X_val)\n",
    "        train_errors.append(mean_squared_error(y_train[:m],y_train_predict))\n",
    "        val_errors.append(mean_squared_error(y_val, y_val_prdict))\n",
    "    plt.xlabel(\"training set\")\n",
    "    plt.ylabel(\"mse\")\n",
    "    plt.plot(np.sqrt(train_errors), \"r-+\", linewidth=2, label=\"train\")\n",
    "    plt.plot(np.sqrt(val_errors), \"b-\", linewidth=3, label=\"val\")\n",
    "learning_plot(regressor,X_train.reshape(-1,1),y_train.reshape(-1,1))"
   ]
  },
  {
   "cell_type": "code",
   "execution_count": null,
   "metadata": {},
   "outputs": [],
   "source": []
  }
 ],
 "metadata": {
  "kernelspec": {
   "display_name": "Python 3",
   "language": "python",
   "name": "python3"
  },
  "language_info": {
   "codemirror_mode": {
    "name": "ipython",
    "version": 3
   },
   "file_extension": ".py",
   "mimetype": "text/x-python",
   "name": "python",
   "nbconvert_exporter": "python",
   "pygments_lexer": "ipython3",
   "version": "3.8.5"
  }
 },
 "nbformat": 4,
 "nbformat_minor": 4
}
