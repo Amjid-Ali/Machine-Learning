{
 "cells": [
  {
   "cell_type": "markdown",
   "metadata": {},
   "source": [
    "# linear Regression \n",
    "\n",
    "linear Regression find the best line,which pass over data points\n",
    "y=b+mx        equation \n",
    "where y is predicted value,b is constant,m is slope of the line,x is the independent values with help of which the y will be predicted,"
   ]
  },
  {
   "cell_type": "code",
   "execution_count": 1,
   "metadata": {},
   "outputs": [],
   "source": [
    "import numpy as np\n",
    "import matplotlib.pyplot as plt\n",
    "import pandas as pd"
   ]
  },
  {
   "cell_type": "code",
   "execution_count": 8,
   "metadata": {},
   "outputs": [],
   "source": [
    "dataset=pd.read_csv(\"./Salary_Data.csv\")\n",
    "# X=dataset.iloc[:,:-1].values\n",
    "# y=dataset.iloc[:,1:].values"
   ]
  },
  {
   "cell_type": "code",
   "execution_count": 10,
   "metadata": {},
   "outputs": [],
   "source": [
    "\n",
    "# missing data\n",
    "# from sklearn.impute import SimpleImputer\n",
    "# model=SimpleImputer(missing_values=\"all\",strategy=\"mean\")\n",
    "# imputer=model.fit(features)\n",
    "# feautres=imputer.transform(features)"
   ]
  },
  {
   "cell_type": "code",
   "execution_count": 11,
   "metadata": {},
   "outputs": [],
   "source": [
    "# spliting the model\n",
    "from sklearn.model_selection import train_test_split\n",
    "X_train,X_test,y_train,y_test=train_test_split(X,y,test_size=0.33,random_state=0)\n",
    "\n"
   ]
  },
  {
   "cell_type": "code",
   "execution_count": 12,
   "metadata": {},
   "outputs": [
    {
     "data": {
      "text/plain": [
       "array([[9345.94244312]])"
      ]
     },
     "execution_count": 12,
     "metadata": {},
     "output_type": "execute_result"
    }
   ],
   "source": [
    "# linear Regression model\n",
    "from sklearn.linear_model import LinearRegression\n",
    "model=LinearRegression()\n",
    "model.fit(X_train,y_train)\n",
    "model.coef_"
   ]
  },
  {
   "cell_type": "code",
   "execution_count": 16,
   "metadata": {},
   "outputs": [
    {
     "name": "stdout",
     "output_type": "stream",
     "text": [
      "Root Mean Squared Error: 4585.4157204675885\n"
     ]
    }
   ],
   "source": [
    "from sklearn.metrics import mean_squared_error,mean_absolute_error\n",
    "model.intercept_\n",
    "# predication the test set result\n",
    "y_pred=model.predict(X_test)\n",
    "# predication on new data\n",
    "model.intercept_\n",
    "\n",
    "mse = mean_squared_error(y_test, y_pred)\n",
    "\n",
    "# Let's take the square root\n",
    "rmse = np.sqrt(mse)\n",
    "# Print the result\n",
    "print('Root Mean Squared Error: ' + str(rmse))\n",
    "check=mean_absolute_error(y_test,y_pred)\n",
    "# print(check)"
   ]
  },
  {
   "cell_type": "code",
   "execution_count": 18,
   "metadata": {},
   "outputs": [
    {
     "data": {
      "image/png": "[encoded data removed]",
      "text/plain": [
       "<Figure size 432x288 with 1 Axes>"
      ]
     },
     "metadata": {
      "needs_background": "light"
     },
     "output_type": "display_data"
    }
   ],
   "source": [
    "# plotting graph of training learning \n",
    "# plt.scatter(X_train,y_train,color=\"red\")\n",
    "plt.plot(X_train,model.predict(X_train),color=\"blue\")\n",
    "plt.title(\"salary vs exprience\")\n",
    "plt.xlabel(\"exprience\")\n",
    "plt.ylabel(\"salary\")\n",
    "plt.show()\n"
   ]
  },
  {
   "cell_type": "code",
   "execution_count": 42,
   "metadata": {},
   "outputs": [
    {
     "data": {
      "image/png": "[encoded data removed]",
      "text/plain": [
       "<Figure size 432x288 with 1 Axes>"
      ]
     },
     "metadata": {
      "needs_background": "light"
     },
     "output_type": "display_data"
    }
   ],
   "source": [
    "# # plotting graph of training learning \n",
    "plt.scatter(X_test,y_test,color=\"red\")\n",
    "plt.plot(X_train,model.predict(X_train),color=\"blue\")\n",
    "plt.title(\"salary vs exprience\")\n",
    "plt.xlabel(\"exprience\")\n",
    "plt.ylabel(\"salary\")\n",
    "plt.show()"
   ]
  },
  {
   "cell_type": "markdown",
   "metadata": {},
   "source": [
    "# simple liner regression\n",
    "it looks for statistical relationship but not deterministic relationship\n",
    "\n",
    " The best fit line is the one for which total prediction error (all data points) are as small as possible. Error is the distance between the point to the regression line."
   ]
  },
  {
   "cell_type": "markdown",
   "metadata": {},
   "source": [
    "# forumlas \n"
   ]
  },
  {
   "cell_type": "markdown",
   "metadata": {},
   "source": [
    "first formula for error   \n",
    "![title](error.png)\n",
    "\n",
    "  "
   ]
  },
  {
   "cell_type": "markdown",
   "metadata": {},
   "source": [
    " this is formula for co effient\n",
    "<img src=\"coeffient.png\">"
   ]
  },
  {
   "cell_type": "markdown",
   "metadata": {},
   "source": [
    "formula for slope \n",
    "![title](slope.png)"
   ]
  },
  {
   "cell_type": "markdown",
   "metadata": {},
   "source": [
    "# exploring b1 slope\n",
    "1)if b1>0 then x andy have postive realationship\n",
    "and increase in x will increase y\n",
    "\n",
    "2)if b1<0 then x andy have negative  realationship\n",
    "and increase in x will decrease y"
   ]
  },
  {
   "cell_type": "markdown",
   "metadata": {},
   "source": [
    "# exploring b0 or co effient\n",
    "The value of b0 guarantee that residual have mean zero. If there is no ‘b0’ term, then regression will be forced to pass over the origin. Both the regression co-efficient and prediction will be biased.\n",
    "\n"
   ]
  },
  {
   "cell_type": "markdown",
   "metadata": {},
   "source": [
    "# normal equation of co effient\n",
    "\n",
    "![title](normal_equ.png)\n",
    "Theta contains co-efficient of all predictors including constant term ‘b0’.\n",
    "\n",
    "Normal equation performs computation by taking inverse of input matrix. Complexity of the computation will increase as the number of features increase. It gets very slow when number of features grow large.\n",
    "complixiety is n^2.5 or n^3"
   ]
  },
  {
   "cell_type": "code",
   "execution_count": 8,
   "metadata": {},
   "outputs": [],
   "source": [
    "from statistics import mean\n",
    "from matplotlib import style\n",
    "# normal equation \n",
    "def normal_equ(X_train,y_train):\n",
    "    n_data=X_train.shape[0]\n",
    "    bias=np.ones((n_data,1))\n",
    "    X_train_b=np.append(bias,X_train,axis=1)\n",
    "    theta1=np.linalg.inv(np.dot(X_train_b.T,X_train_b))\n",
    "    theta2=np.dot(theta1,X_train_b.T)\n",
    "    theta=np.dot(theta2,y_train)\n",
    "    return theta"
   ]
  },
  {
   "cell_type": "code",
   "execution_count": 9,
   "metadata": {},
   "outputs": [],
   "source": [
    "theta=normal_equ(X_train,y_train)"
   ]
  },
  {
   "cell_type": "code",
   "execution_count": 10,
   "metadata": {},
   "outputs": [
    {
     "data": {
      "text/plain": [
       "array([[1.55431223e-15, 2.68161922e+04],\n",
       "       [1.00000000e+00, 9.34594244e+03]])"
      ]
     },
     "execution_count": 10,
     "metadata": {},
     "output_type": "execute_result"
    }
   ],
   "source": [
    "theta"
   ]
  },
  {
   "cell_type": "markdown",
   "metadata": {},
   "source": [
    "# Residual Analysis\n",
    "Prediction = Deterministic + Statistic\n"
   ]
  },
  {
   "cell_type": "code",
   "execution_count": 11,
   "metadata": {},
   "outputs": [
    {
     "data": {
      "image/png": "[encoded data removed]",
      "text/plain": [
       "<Figure size 432x288 with 1 Axes>"
      ]
     },
     "metadata": {
      "needs_background": "light"
     },
     "output_type": "display_data"
    }
   ],
   "source": [
    "plt.scatter(y_pred,y_pred-y_test,color=\"g\")\n",
    "plt.hlines(y=0,xmin=0,xmax=len(y_test))\n",
    "plt.title(\"residual plots\")\n",
    "plt.ylabel(\"Residual\")\n",
    "plt.show()"
   ]
  },
  {
   "cell_type": "markdown",
   "metadata": {},
   "source": [
    "This value ranges from 0 to 1. Value ‘1’ indicates predictor perfectly accounts for all the variation in Y. Value ‘0’ indicates that predictor ‘x’ accounts for no variation in ‘y’."
   ]
  },
  {
   "cell_type": "code",
   "execution_count": 12,
   "metadata": {},
   "outputs": [],
   "source": [
    "# R square formula\n",
    "def rsq(predication,y_test):\n",
    "    total_data=len(predication)\n",
    "    y_avg=np.sum(y_test)/total_data\n",
    "    total_error=np.sum((y_test-y_avg)**2)\n",
    "    res_err=np.sum((y_test-predication)**2)\n",
    "    r2=1-(res_err/total_error)\n",
    "    return r2"
   ]
  },
  {
   "cell_type": "code",
   "execution_count": 13,
   "metadata": {},
   "outputs": [
    {
     "data": {
      "text/plain": [
       "0.9974445798289048"
      ]
     },
     "execution_count": 13,
     "metadata": {},
     "output_type": "execute_result"
    }
   ],
   "source": [
    "square_error=rsq(y_pred,y_test)\n",
    "square_error"
   ]
  },
  {
   "cell_type": "markdown",
   "metadata": {},
   "source": [
    "Is the range of R-Square always between 0 to 1?\n",
    "Value of R2 may end up being negative if the regression line is made to pass through a point forcefully. This will lead to forcefully making regression line to pass through the origin (no intercept) giving an error higher than the error produced by the horizontal line. This will happen if the data is far away from the origin.\n",
    "\n",
    "\n",
    "Correlation co-efficient (r)\n",
    "This is related to value of ‘r-squared’ which can be observed from the notation itself. It ranges from -1 to 1.\n",
    "r = (+/-) sqrt(r²)\n",
    "If the value of b1 is negative, then ‘r’ is negative whereas if the value of ‘b1’ is positive then, ‘r’ is positive. It is unitless."
   ]
  },
  {
   "cell_type": "markdown",
   "metadata": {},
   "source": [
    "co effient\n",
    "The correlation coefficient can take any value from -1 to 1.\n",
    "r = 1 means that two variables are perfectly correlated (a positive change in one variable perfectly predicts a positive change in the other)\n",
    "r = 0 means that two variables are not correlated (a change in one variable does not predict a change in the other)\n",
    "r = -1 means that two variables are negatively correlated (a positive change in one variable perfectly predicts a negative change in the other)"
   ]
  },
  {
   "cell_type": "markdown",
   "metadata": {},
   "source": [
    "# adjusted r value\n",
    "\n",
    "\n"
   ]
  },
  {
   "cell_type": "code",
   "execution_count": 43,
   "metadata": {},
   "outputs": [],
   "source": [
    "adjusted_r=1 - (1-model.score(X, y))*(len(y)-1)/(len(y)-X.shape[1]-1)"
   ]
  },
  {
   "cell_type": "code",
   "execution_count": 45,
   "metadata": {},
   "outputs": [],
   "source": [
    "# adjusted_r"
   ]
  },
  {
   "cell_type": "code",
   "execution_count": null,
   "metadata": {},
   "outputs": [],
   "source": []
  }
 ],
 "metadata": {
  "kernelspec": {
   "display_name": "Python 3 (ipykernel)",
   "language": "python",
   "name": "python3"
  },
  "language_info": {
   "codemirror_mode": {
    "name": "ipython",
    "version": 3
   },
   "file_extension": ".py",
   "mimetype": "text/x-python",
   "name": "python",
   "nbconvert_exporter": "python",
   "pygments_lexer": "ipython3",
   "version": "3.8.12"
  }
 },
 "nbformat": 4,
 "nbformat_minor": 4
}
