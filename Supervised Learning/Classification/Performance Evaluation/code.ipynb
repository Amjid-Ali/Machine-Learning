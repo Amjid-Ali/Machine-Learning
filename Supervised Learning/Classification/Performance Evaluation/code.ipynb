{
 "cells": [
  {
   "cell_type": "markdown",
   "metadata": {},
   "source": [
    "# Evaluating classification models performance \n"
   ]
  },
  {
   "cell_type": "markdown",
   "metadata": {},
   "source": [
    "# false/postive or type 1 error\n",
    "the model predict that positive but the answer was false\n",
    "model predict an event that dont occur\n",
    "\n",
    "# false/negative or type 1 error\n",
    "the model predict that it was negative but it was true \n"
   ]
  },
  {
   "cell_type": "markdown",
   "metadata": {},
   "source": [
    "# confusion matrix\n",
    "\n",
    "the struture is like\n",
    "\n",
    "# Truenegative Falsepositive\n",
    "#  Falsenegative     Truepositive"
   ]
  },
  {
   "cell_type": "markdown",
   "metadata": {},
   "source": [
    "# calculate two rates\n",
    "\n",
    "\n",
    "# Accuracy Rate=correct /total\n",
    "# error=wrong/total"
   ]
  },
  {
   "cell_type": "markdown",
   "metadata": {},
   "source": [
    "# accuracy paradox\n",
    "\n",
    "when we are going to tell the model to stop making predictions,whatsoever which is going to abandom them all completely,and we are going to say that from now on our predictions is always zero,we are always going to predict that the event is not going to occur,\n",
    "so the confusion martix we ,\n",
    "add true positive with false postive  and false negative with false postive ,and after that if we check the accuracy then it will be incrased with some ratios, this is called accuracy paradox"
   ]
  },
  {
   "cell_type": "markdown",
   "metadata": {},
   "source": [
    "# classification Accuracy \n",
    "Classification accuracy shows how many of the predictions are correct\n",
    "![](acc.png)"
   ]
  },
  {
   "cell_type": "markdown",
   "metadata": {},
   "source": [
    "# confusion martrix\n",
    "A confusion matrix is not a metric to evaluate a model, but it provides insight into the predictions. It is important to learn confusion matrix in order to comprehend other classification metrics such as precision and recall.\n",
    "\n",
    "![](cm.png)"
   ]
  },
  {
   "cell_type": "markdown",
   "metadata": {},
   "source": [
    "# Precision and Recall\n",
    "Precision and recall metrics take the classification accuracy one step further and allow us to get a more specific understanding of model evaluation. Which one to prefer depends on the task and what we aim to achieve.\n",
    "Precision measures how good our model is when the prediction is positive.\n",
    "\n",
    "![](p.png)\n",
    "\n",
    "The focus of precision is positive predictions. It indicates how many positive predictions are true.\n",
    "\n",
    "\n",
    "# recall \n",
    "Recall measures how good our model is at correctly predicting positive classes.\n",
    "![](r.png)"
   ]
  },
  {
   "cell_type": "markdown",
   "metadata": {},
   "source": [
    "# F1 Score\n",
    "There is another measure that combines precision and recall into a single number and that is F1 score.\n",
    "![](f.png)\n",
    "\n",
    "F1 score is a more useful measure than accuracy for problems with uneven class distribution because it takes into account both false positive and false negatives.\n",
    "The best value for f1 score is 1 and the worst is 0"
   ]
  },
  {
   "cell_type": "markdown",
   "metadata": {},
   "source": [
    "![](total.jfif)"
   ]
  },
  {
   "cell_type": "markdown",
   "metadata": {},
   "source": [
    "# Specificity\n",
    "is a measure that tells us what proportion of patients that did NOT have cancer, were predicted by the model as non-cancerous. The actual negatives (People actually NOT having cancer are FP and TN) and the people diagnosed by us not having cancer are TN. (Note: FP is included because the Person did NOT actually have cancer even though the model predicted otherwise)."
   ]
  },
  {
   "cell_type": "code",
   "execution_count": 1,
   "metadata": {},
   "outputs": [
    {
     "data": {
      "text/plain": [
       "0.6857142857142857"
      ]
     },
     "execution_count": 1,
     "metadata": {},
     "output_type": "execute_result"
    }
   ],
   "source": [
    "import numpy as np\n",
    "from sklearn.metrics import f1_score\n",
    "\n",
    "#define array of actual classes\n",
    "actual = np.repeat([1, 0], repeats=[160, 240])\n",
    "\n",
    "#define array of predicted classes\n",
    "pred = np.repeat([1, 0, 1, 0], repeats=[120, 40, 70, 170])\n",
    "\n",
    "#calculate F1 score\n",
    "f1_score(actual, pred)\n"
   ]
  },
  {
   "cell_type": "code",
   "execution_count": 2,
   "metadata": {},
   "outputs": [
    {
     "name": "stdout",
     "output_type": "stream",
     "text": [
      "Train Data: (455, 30), (455,)\n",
      "Train Data: (114, 30), (114,)\n"
     ]
    }
   ],
   "source": [
    "# Importing necessary libraries\n",
    "from sklearn.datasets import load_breast_cancer\n",
    "from sklearn.ensemble import RandomForestClassifier\n",
    "from sklearn.model_selection import train_test_split\n",
    "\n",
    "# Loading the breast cancer data set\n",
    "diabetes_data = load_breast_cancer()\n",
    "\n",
    "# Creating independent and dependent variables\n",
    "X = diabetes_data.data\n",
    "y = diabetes_data.target\n",
    "\n",
    "# Splitting the data into training and testing set\n",
    "X_train, X_test, y_train, y_test = train_test_split(X, y, test_size=0.2, random_state=24)\n",
    "print(f\"Train Data: {X_train.shape}, {y_train.shape}\")\n",
    "print(f\"Train Data: {X_test.shape}, {y_test.shape}\")\n",
    "\n",
    "# Training a binary classifier using Random Forest Algorithm with default hyperparameters\n",
    "classifier = RandomForestClassifier(random_state=18)\n",
    "classifier.fit(X_train, y_train)\n",
    "\n",
    "# Here X_test, y_test are the test data points\n",
    "predictions = classifier.predict(X_test)"
   ]
  },
  {
   "cell_type": "code",
   "execution_count": 3,
   "metadata": {},
   "outputs": [
    {
     "name": "stdout",
     "output_type": "stream",
     "text": [
      "Accuracy of the classifier is: 0.9473684210526315\n"
     ]
    }
   ],
   "source": [
    "from sklearn.metrics import accuracy_score\n",
    "# Calculating the accuracy of classifier\n",
    "print(f\"Accuracy of the classifier is: {accuracy_score(y_test, predictions)}\")"
   ]
  },
  {
   "cell_type": "code",
   "execution_count": 4,
   "metadata": {},
   "outputs": [
    {
     "name": "stdout",
     "output_type": "stream",
     "text": [
      "[[39  2]\n",
      " [ 4 69]]\n"
     ]
    },
    {
     "data": {
      "image/png": "[encoded data removed]",
      "text/plain": [
       "<Figure size 432x288 with 2 Axes>"
      ]
     },
     "metadata": {
      "needs_background": "light"
     },
     "output_type": "display_data"
    }
   ],
   "source": [
    "import matplotlib.pyplot as plt\n",
    "from sklearn.metrics import confusion_matrix\n",
    "from sklearn.metrics import plot_confusion_matrix\n",
    "\n",
    "# confusion_matrix funnction a matrix containing the summary of predictions\n",
    "print(confusion_matrix(y_test, predictions))\n",
    "\n",
    "# plot_confusion_matrix function is used to visualize the confusion matrix\n",
    "plot_confusion_matrix(classifier, X_test, y_test)\n",
    "plt.show()"
   ]
  },
  {
   "cell_type": "code",
   "execution_count": 5,
   "metadata": {},
   "outputs": [
    {
     "name": "stdout",
     "output_type": "stream",
     "text": [
      "Precision Score of the classifier is: 0.971830985915493\n"
     ]
    }
   ],
   "source": [
    "from sklearn.metrics import precision_score\n",
    "\n",
    "# Calculating the precision score of classifier\n",
    "print(f\"Precision Score of the classifier is: {precision_score(y_test, predictions)}\")"
   ]
  },
  {
   "cell_type": "code",
   "execution_count": 6,
   "metadata": {},
   "outputs": [
    {
     "name": "stdout",
     "output_type": "stream",
     "text": [
      "Recall Score of the classifier is: 0.9452054794520548\n"
     ]
    }
   ],
   "source": [
    "from sklearn.metrics import recall_score\n",
    "\n",
    "# Calculating the recall score of classifier\n",
    "print(f\"Recall Score of the classifier is: {recall_score(y_test, predictions)}\")"
   ]
  },
  {
   "cell_type": "code",
   "execution_count": 7,
   "metadata": {},
   "outputs": [
    {
     "name": "stdout",
     "output_type": "stream",
     "text": [
      "F1 Score of the classifier is: 0.9583333333333334\n"
     ]
    }
   ],
   "source": [
    "# Importing all necessary libraries\n",
    "from sklearn.metrics import f1_score\n",
    "\n",
    "# Calculating the F1 score of classifier\n",
    "print(f\"F1 Score of the classifier is: {f1_score(y_test, predictions)}\")"
   ]
  },
  {
   "cell_type": "markdown",
   "metadata": {},
   "source": [
    "# AUC-ROC Curve\n",
    "AUC-ROC Curve is a performance metric that is used to measure the performance for the classification model at different threshold values. ROC is Receiver Operating Characteristic Curve and AUC is Area Under Curve. The higher the value of AUC (Area under the curve), the better is our classifier in predicting the classes. AUC-ROC is mostly used in binary classification problems.\n",
    "The ROC curve is plotted between True Positive Rate (TPR) and False Positive Rate (FPR) i.e. TPR on the y-axis and FPR on the x-axis. AUC is the area under the ROC curve. An excellent classifier has an AUC value near 1, whereas a poor-performing classifier has an AOC value near 0. A classifier with an AOC score of 0.5 doesn’t have any class separation capacity.\n",
    "\n"
   ]
  },
  {
   "cell_type": "code",
   "execution_count": 8,
   "metadata": {},
   "outputs": [
    {
     "name": "stdout",
     "output_type": "stream",
     "text": [
      "AUC for our classifier is: 0.9769462078182426\n"
     ]
    },
    {
     "data": {
      "image/png": "[encoded data removed]",
      "text/plain": [
       "<Figure size 432x288 with 1 Axes>"
      ]
     },
     "metadata": {
      "needs_background": "light"
     },
     "output_type": "display_data"
    }
   ],
   "source": [
    "# Importing all necessary libraries\n",
    "from sklearn.metrics import roc_curve, auc\n",
    "\n",
    "class_probabilities = classifier.predict_proba(X_test)\n",
    "preds = class_probabilities[:, 1]\n",
    "\n",
    "fpr, tpr, threshold = roc_curve(y_test, preds)\n",
    "roc_auc = auc(fpr, tpr)\n",
    "\n",
    "# Printing AUC\n",
    "print(f\"AUC for our classifier is: {roc_auc}\")\n",
    "\n",
    "# Plotting the ROC\n",
    "plt.title('Receiver Operating Characteristic')\n",
    "plt.plot(fpr, tpr, 'b', label = 'AUC = %0.2f' % roc_auc)\n",
    "plt.legend(loc = 'lower right')\n",
    "plt.plot([0, 1], [0, 1],'r--')\n",
    "plt.xlim([0, 1])\n",
    "plt.ylim([0, 1])\n",
    "plt.ylabel('True Positive Rate')\n",
    "plt.xlabel('False Positive Rate')\n",
    "plt.show()"
   ]
  },
  {
   "cell_type": "code",
   "execution_count": null,
   "metadata": {},
   "outputs": [],
   "source": []
  }
 ],
 "metadata": {
  "kernelspec": {
   "display_name": "Python 3",
   "language": "python",
   "name": "python3"
  },
  "language_info": {
   "codemirror_mode": {
    "name": "ipython",
    "version": 3
   },
   "file_extension": ".py",
   "mimetype": "text/x-python",
   "name": "python",
   "nbconvert_exporter": "python",
   "pygments_lexer": "ipython3",
   "version": "3.8.5"
  }
 },
 "nbformat": 4,
 "nbformat_minor": 4
}
